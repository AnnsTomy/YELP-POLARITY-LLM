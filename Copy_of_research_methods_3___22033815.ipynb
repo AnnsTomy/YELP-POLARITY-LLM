{
  "nbformat": 4,
  "nbformat_minor": 0,
  "metadata": {
    "colab": {
      "provenance": []
    },
    "kernelspec": {
      "name": "python3",
      "display_name": "Python 3"
    },
    "language_info": {
      "name": "python"
    }
  },
  "cells": [
    {
      "cell_type": "code",
      "source": [
        "# Install required libraries if not already installed\n",
        "!pip install transformers tensorflow\n"
      ],
      "metadata": {
        "colab": {
          "base_uri": "https://localhost:8080/"
        },
        "id": "kLjhiXzIPtGR",
        "outputId": "1b1cc43f-09d5-427f-da3d-4db09e80576e"
      },
      "execution_count": 1,
      "outputs": [
        {
          "output_type": "stream",
          "name": "stdout",
          "text": [
            "Requirement already satisfied: transformers in /usr/local/lib/python3.10/dist-packages (4.42.4)\n",
            "Requirement already satisfied: tensorflow in /usr/local/lib/python3.10/dist-packages (2.17.0)\n",
            "Requirement already satisfied: filelock in /usr/local/lib/python3.10/dist-packages (from transformers) (3.15.4)\n",
            "Requirement already satisfied: huggingface-hub<1.0,>=0.23.2 in /usr/local/lib/python3.10/dist-packages (from transformers) (0.23.5)\n",
            "Requirement already satisfied: numpy<2.0,>=1.17 in /usr/local/lib/python3.10/dist-packages (from transformers) (1.26.4)\n",
            "Requirement already satisfied: packaging>=20.0 in /usr/local/lib/python3.10/dist-packages (from transformers) (24.1)\n",
            "Requirement already satisfied: pyyaml>=5.1 in /usr/local/lib/python3.10/dist-packages (from transformers) (6.0.2)\n",
            "Requirement already satisfied: regex!=2019.12.17 in /usr/local/lib/python3.10/dist-packages (from transformers) (2024.5.15)\n",
            "Requirement already satisfied: requests in /usr/local/lib/python3.10/dist-packages (from transformers) (2.32.3)\n",
            "Requirement already satisfied: safetensors>=0.4.1 in /usr/local/lib/python3.10/dist-packages (from transformers) (0.4.4)\n",
            "Requirement already satisfied: tokenizers<0.20,>=0.19 in /usr/local/lib/python3.10/dist-packages (from transformers) (0.19.1)\n",
            "Requirement already satisfied: tqdm>=4.27 in /usr/local/lib/python3.10/dist-packages (from transformers) (4.66.5)\n",
            "Requirement already satisfied: absl-py>=1.0.0 in /usr/local/lib/python3.10/dist-packages (from tensorflow) (1.4.0)\n",
            "Requirement already satisfied: astunparse>=1.6.0 in /usr/local/lib/python3.10/dist-packages (from tensorflow) (1.6.3)\n",
            "Requirement already satisfied: flatbuffers>=24.3.25 in /usr/local/lib/python3.10/dist-packages (from tensorflow) (24.3.25)\n",
            "Requirement already satisfied: gast!=0.5.0,!=0.5.1,!=0.5.2,>=0.2.1 in /usr/local/lib/python3.10/dist-packages (from tensorflow) (0.6.0)\n",
            "Requirement already satisfied: google-pasta>=0.1.1 in /usr/local/lib/python3.10/dist-packages (from tensorflow) (0.2.0)\n",
            "Requirement already satisfied: h5py>=3.10.0 in /usr/local/lib/python3.10/dist-packages (from tensorflow) (3.11.0)\n",
            "Requirement already satisfied: libclang>=13.0.0 in /usr/local/lib/python3.10/dist-packages (from tensorflow) (18.1.1)\n",
            "Requirement already satisfied: ml-dtypes<0.5.0,>=0.3.1 in /usr/local/lib/python3.10/dist-packages (from tensorflow) (0.4.0)\n",
            "Requirement already satisfied: opt-einsum>=2.3.2 in /usr/local/lib/python3.10/dist-packages (from tensorflow) (3.3.0)\n",
            "Requirement already satisfied: protobuf!=4.21.0,!=4.21.1,!=4.21.2,!=4.21.3,!=4.21.4,!=4.21.5,<5.0.0dev,>=3.20.3 in /usr/local/lib/python3.10/dist-packages (from tensorflow) (3.20.3)\n",
            "Requirement already satisfied: setuptools in /usr/local/lib/python3.10/dist-packages (from tensorflow) (71.0.4)\n",
            "Requirement already satisfied: six>=1.12.0 in /usr/local/lib/python3.10/dist-packages (from tensorflow) (1.16.0)\n",
            "Requirement already satisfied: termcolor>=1.1.0 in /usr/local/lib/python3.10/dist-packages (from tensorflow) (2.4.0)\n",
            "Requirement already satisfied: typing-extensions>=3.6.6 in /usr/local/lib/python3.10/dist-packages (from tensorflow) (4.12.2)\n",
            "Requirement already satisfied: wrapt>=1.11.0 in /usr/local/lib/python3.10/dist-packages (from tensorflow) (1.16.0)\n",
            "Requirement already satisfied: grpcio<2.0,>=1.24.3 in /usr/local/lib/python3.10/dist-packages (from tensorflow) (1.64.1)\n",
            "Requirement already satisfied: tensorboard<2.18,>=2.17 in /usr/local/lib/python3.10/dist-packages (from tensorflow) (2.17.0)\n",
            "Requirement already satisfied: keras>=3.2.0 in /usr/local/lib/python3.10/dist-packages (from tensorflow) (3.4.1)\n",
            "Requirement already satisfied: tensorflow-io-gcs-filesystem>=0.23.1 in /usr/local/lib/python3.10/dist-packages (from tensorflow) (0.37.1)\n",
            "Requirement already satisfied: wheel<1.0,>=0.23.0 in /usr/local/lib/python3.10/dist-packages (from astunparse>=1.6.0->tensorflow) (0.44.0)\n",
            "Requirement already satisfied: fsspec>=2023.5.0 in /usr/local/lib/python3.10/dist-packages (from huggingface-hub<1.0,>=0.23.2->transformers) (2024.6.1)\n",
            "Requirement already satisfied: rich in /usr/local/lib/python3.10/dist-packages (from keras>=3.2.0->tensorflow) (13.7.1)\n",
            "Requirement already satisfied: namex in /usr/local/lib/python3.10/dist-packages (from keras>=3.2.0->tensorflow) (0.0.8)\n",
            "Requirement already satisfied: optree in /usr/local/lib/python3.10/dist-packages (from keras>=3.2.0->tensorflow) (0.12.1)\n",
            "Requirement already satisfied: charset-normalizer<4,>=2 in /usr/local/lib/python3.10/dist-packages (from requests->transformers) (3.3.2)\n",
            "Requirement already satisfied: idna<4,>=2.5 in /usr/local/lib/python3.10/dist-packages (from requests->transformers) (3.7)\n",
            "Requirement already satisfied: urllib3<3,>=1.21.1 in /usr/local/lib/python3.10/dist-packages (from requests->transformers) (2.0.7)\n",
            "Requirement already satisfied: certifi>=2017.4.17 in /usr/local/lib/python3.10/dist-packages (from requests->transformers) (2024.7.4)\n",
            "Requirement already satisfied: markdown>=2.6.8 in /usr/local/lib/python3.10/dist-packages (from tensorboard<2.18,>=2.17->tensorflow) (3.6)\n",
            "Requirement already satisfied: tensorboard-data-server<0.8.0,>=0.7.0 in /usr/local/lib/python3.10/dist-packages (from tensorboard<2.18,>=2.17->tensorflow) (0.7.2)\n",
            "Requirement already satisfied: werkzeug>=1.0.1 in /usr/local/lib/python3.10/dist-packages (from tensorboard<2.18,>=2.17->tensorflow) (3.0.3)\n",
            "Requirement already satisfied: MarkupSafe>=2.1.1 in /usr/local/lib/python3.10/dist-packages (from werkzeug>=1.0.1->tensorboard<2.18,>=2.17->tensorflow) (2.1.5)\n",
            "Requirement already satisfied: markdown-it-py>=2.2.0 in /usr/local/lib/python3.10/dist-packages (from rich->keras>=3.2.0->tensorflow) (3.0.0)\n",
            "Requirement already satisfied: pygments<3.0.0,>=2.13.0 in /usr/local/lib/python3.10/dist-packages (from rich->keras>=3.2.0->tensorflow) (2.16.1)\n",
            "Requirement already satisfied: mdurl~=0.1 in /usr/local/lib/python3.10/dist-packages (from markdown-it-py>=2.2.0->rich->keras>=3.2.0->tensorflow) (0.1.2)\n"
          ]
        }
      ]
    },
    {
      "cell_type": "code",
      "source": [
        "import tensorflow as tf\n",
        "import pandas as pd\n",
        "import matplotlib.pyplot as plt\n",
        "import seaborn as sns\n",
        "import tensorflow as tf\n",
        "from transformers import DistilBertTokenizer\n",
        "import numpy as np\n",
        "from transformers import TFDistilBertForSequenceClassification\n",
        "from tensorflow.keras.optimizers import Adam"
      ],
      "metadata": {
        "id": "diIFdrY4T7Lk"
      },
      "execution_count": 2,
      "outputs": []
    },
    {
      "cell_type": "code",
      "execution_count": 3,
      "metadata": {
        "id": "oigOG618Ksk8",
        "colab": {
          "base_uri": "https://localhost:8080/"
        },
        "outputId": "9c0f69a5-7942-407a-bfc9-a7ec8b03df3b"
      },
      "outputs": [
        {
          "output_type": "stream",
          "name": "stderr",
          "text": [
            "/usr/local/lib/python3.10/dist-packages/huggingface_hub/utils/_token.py:89: UserWarning: \n",
            "The secret `HF_TOKEN` does not exist in your Colab secrets.\n",
            "To authenticate with the Hugging Face Hub, create a token in your settings tab (https://huggingface.co/settings/tokens), set it as secret in your Google Colab and restart your session.\n",
            "You will be able to reuse this secret in all of your notebooks.\n",
            "Please note that authentication is recommended but still optional to access public models or datasets.\n",
            "  warnings.warn(\n"
          ]
        }
      ],
      "source": [
        "#loading the data\n",
        "\n",
        "splits = {'train': 'plain_text/train-00000-of-00001.parquet', 'test': 'plain_text/test-00000-of-00001.parquet'}\n",
        "train_df = pd.read_parquet(\"hf://datasets/fancyzhx/yelp_polarity/\" + splits[\"train\"])\n",
        "test_df = pd.read_parquet(\"hf://datasets/fancyzhx/yelp_polarity/\" + splits[\"test\"])"
      ]
    },
    {
      "cell_type": "markdown",
      "source": [
        "EDA"
      ],
      "metadata": {
        "id": "dmp6hKSBy0S1"
      }
    },
    {
      "cell_type": "code",
      "source": [
        "#print the dataframes\n",
        "print(train_df)\n",
        "print(test_df)"
      ],
      "metadata": {
        "colab": {
          "base_uri": "https://localhost:8080/"
        },
        "id": "FUJeZvCjLhtq",
        "outputId": "a7051be2-964d-4f01-f155-16643ae782b0"
      },
      "execution_count": 4,
      "outputs": [
        {
          "output_type": "stream",
          "name": "stdout",
          "text": [
            "                                                     text  label\n",
            "0       Unfortunately, the frustration of being Dr. Go...      0\n",
            "1       Been going to Dr. Goldberg for over 10 years. ...      1\n",
            "2       I don't know what Dr. Goldberg was like before...      0\n",
            "3       I'm writing this review to give you a heads up...      0\n",
            "4       All the food is great here. But the best thing...      1\n",
            "...                                                   ...    ...\n",
            "559995  Ryan was as good as everyone on yelp has claim...      1\n",
            "559996  Professional \\nFriendly\\nOn time AND affordabl...      1\n",
            "559997  Phone calls always go to voicemail and message...      0\n",
            "559998  Looks like all of the good reviews have gone t...      0\n",
            "559999  Ryan Rocks! I called him this morning for some...      1\n",
            "\n",
            "[560000 rows x 2 columns]\n",
            "                                                    text  label\n",
            "0      Contrary to other reviews, I have zero complai...      1\n",
            "1      Last summer I had an appointment to get new ti...      0\n",
            "2      Friendly staff, same starbucks fair you get an...      1\n",
            "3      The food is good. Unfortunately the service is...      0\n",
            "4      Even when we didn't have a car Filene's Baseme...      1\n",
            "...                                                  ...    ...\n",
            "37995         If I could give 0...I would.  Don't do it.      0\n",
            "37996  Items Selected:\\nChocolate Cinnamon Horn\\nSmal...      1\n",
            "37997  Expensive lunch meals.  Fried pickles were goo...      0\n",
            "37998  Highly overpriced and food was cold. Our waitr...      0\n",
            "37999  I have been using this company for 11 months. ...      0\n",
            "\n",
            "[38000 rows x 2 columns]\n"
          ]
        }
      ]
    },
    {
      "cell_type": "code",
      "source": [
        "# Check the shape of the DataFrames\n",
        "print(f\"Train Data Shape: {train_df.shape}\")\n",
        "print(f\"Test Data Shape: {test_df.shape}\")"
      ],
      "metadata": {
        "colab": {
          "base_uri": "https://localhost:8080/"
        },
        "id": "eAGWSwhxL1ZE",
        "outputId": "3bbdd342-544a-4b76-a934-14ea809768c5"
      },
      "execution_count": 5,
      "outputs": [
        {
          "output_type": "stream",
          "name": "stdout",
          "text": [
            "Train Data Shape: (560000, 2)\n",
            "Test Data Shape: (38000, 2)\n"
          ]
        }
      ]
    },
    {
      "cell_type": "code",
      "source": [
        "# Display the first few rows to verify the content\n",
        "print(train_df.head())\n",
        "print(test_df.head())"
      ],
      "metadata": {
        "colab": {
          "base_uri": "https://localhost:8080/"
        },
        "id": "DPaLY1XIL2fo",
        "outputId": "313766b9-2e54-4625-ad93-21d36538afb5"
      },
      "execution_count": 6,
      "outputs": [
        {
          "output_type": "stream",
          "name": "stdout",
          "text": [
            "                                                text  label\n",
            "0  Unfortunately, the frustration of being Dr. Go...      0\n",
            "1  Been going to Dr. Goldberg for over 10 years. ...      1\n",
            "2  I don't know what Dr. Goldberg was like before...      0\n",
            "3  I'm writing this review to give you a heads up...      0\n",
            "4  All the food is great here. But the best thing...      1\n",
            "                                                text  label\n",
            "0  Contrary to other reviews, I have zero complai...      1\n",
            "1  Last summer I had an appointment to get new ti...      0\n",
            "2  Friendly staff, same starbucks fair you get an...      1\n",
            "3  The food is good. Unfortunately the service is...      0\n",
            "4  Even when we didn't have a car Filene's Baseme...      1\n"
          ]
        }
      ]
    },
    {
      "cell_type": "code",
      "source": [
        "#print the train data columns\n",
        "print(train_df.columns)"
      ],
      "metadata": {
        "colab": {
          "base_uri": "https://localhost:8080/"
        },
        "id": "8msnjMJRL50q",
        "outputId": "9158745c-c710-4eb9-9718-f70234aadc2b"
      },
      "execution_count": 7,
      "outputs": [
        {
          "output_type": "stream",
          "name": "stdout",
          "text": [
            "Index(['text', 'label'], dtype='object')\n"
          ]
        }
      ]
    },
    {
      "cell_type": "code",
      "source": [
        "# Check for null values in the train and test DataFrames\n",
        "train_nulls = train_df.isnull().sum()\n",
        "test_nulls = test_df.isnull().sum()\n",
        "\n",
        "print(\"Null values in train data:\")\n",
        "print(train_nulls)\n",
        "\n",
        "print(\"\\nNull values in test data:\")\n",
        "print(test_nulls)"
      ],
      "metadata": {
        "colab": {
          "base_uri": "https://localhost:8080/"
        },
        "id": "WyZ3V2iXMYQS",
        "outputId": "1d03021f-acce-411c-d653-0cd01c361893"
      },
      "execution_count": 8,
      "outputs": [
        {
          "output_type": "stream",
          "name": "stdout",
          "text": [
            "Null values in train data:\n",
            "text     0\n",
            "label    0\n",
            "dtype: int64\n",
            "\n",
            "Null values in test data:\n",
            "text     0\n",
            "label    0\n",
            "dtype: int64\n"
          ]
        }
      ]
    },
    {
      "cell_type": "code",
      "source": [
        "# Check for duplicates in the train and test DataFrames\n",
        "train_duplicates = train_df.duplicated().sum()\n",
        "test_duplicates = test_df.duplicated().sum()\n",
        "\n",
        "print(f\"\\nNumber of duplicate rows in train data: {train_duplicates}\")\n",
        "print(f\"Number of duplicate rows in test data: {test_duplicates}\")"
      ],
      "metadata": {
        "colab": {
          "base_uri": "https://localhost:8080/"
        },
        "id": "F1ngfC0PMbub",
        "outputId": "c475da52-fc58-4398-b584-9148f1a12cb7"
      },
      "execution_count": 9,
      "outputs": [
        {
          "output_type": "stream",
          "name": "stdout",
          "text": [
            "\n",
            "Number of duplicate rows in train data: 0\n",
            "Number of duplicate rows in test data: 0\n"
          ]
        }
      ]
    },
    {
      "cell_type": "code",
      "source": [
        "# Summary statistics for text length\n",
        "train_df['text_length'] = train_df['text'].apply(len)\n",
        "print(train_df['text_length'].describe())"
      ],
      "metadata": {
        "colab": {
          "base_uri": "https://localhost:8080/"
        },
        "id": "LTTF3B8UNLii",
        "outputId": "fff91968-8b76-4119-dce5-bfdf663c2998"
      },
      "execution_count": 10,
      "outputs": [
        {
          "output_type": "stream",
          "name": "stdout",
          "text": [
            "count    560000.000000\n",
            "mean        726.497923\n",
            "std         669.844273\n",
            "min           1.000000\n",
            "25%         279.000000\n",
            "50%         528.000000\n",
            "75%         947.000000\n",
            "max        5273.000000\n",
            "Name: text_length, dtype: float64\n"
          ]
        }
      ]
    },
    {
      "cell_type": "code",
      "source": [
        "# Distribution of labels in the training and test datasets\n",
        "print(\"Label distribution in train data:\")\n",
        "print(train_df['label'].value_counts())"
      ],
      "metadata": {
        "colab": {
          "base_uri": "https://localhost:8080/"
        },
        "id": "spaP3KChNUOz",
        "outputId": "40da5b22-d1f2-4937-b405-9631e286f0d1"
      },
      "execution_count": 11,
      "outputs": [
        {
          "output_type": "stream",
          "name": "stdout",
          "text": [
            "Label distribution in train data:\n",
            "label\n",
            "0    280000\n",
            "1    280000\n",
            "Name: count, dtype: int64\n"
          ]
        }
      ]
    },
    {
      "cell_type": "code",
      "source": [
        "print(\"\\nLabel distribution in test data:\")\n",
        "print(test_df['label'].value_counts())"
      ],
      "metadata": {
        "colab": {
          "base_uri": "https://localhost:8080/"
        },
        "id": "96cWrfBlNYFa",
        "outputId": "c22b5b0f-9fef-4b40-f4c1-24c377123a86"
      },
      "execution_count": 12,
      "outputs": [
        {
          "output_type": "stream",
          "name": "stdout",
          "text": [
            "\n",
            "Label distribution in test data:\n",
            "label\n",
            "1    19000\n",
            "0    19000\n",
            "Name: count, dtype: int64\n"
          ]
        }
      ]
    },
    {
      "cell_type": "code",
      "source": [
        "# Histogram of text lengths\n",
        "plt.figure(figsize=(10, 6))\n",
        "sns.histplot(train_df['text_length'], bins=50, kde=True)\n",
        "plt.title('Distribution of Review Text Lengths')\n",
        "plt.xlabel('Text Length')\n",
        "plt.ylabel('Frequency')\n",
        "plt.show()"
      ],
      "metadata": {
        "colab": {
          "base_uri": "https://localhost:8080/",
          "height": 564
        },
        "id": "9frt4xVnNbSp",
        "outputId": "9e5df429-1053-45d3-d792-79fcb640ac65"
      },
      "execution_count": 13,
      "outputs": [
        {
          "output_type": "display_data",
          "data": {
            "text/plain": [
              "<Figure size 1000x600 with 1 Axes>"
            ],
            "image/png": "[encoded data removed]"
          },
          "metadata": {}
        }
      ]
    },
    {
      "cell_type": "code",
      "source": [
        "# Correlation between text length and label\n",
        "correlation = train_df[['text_length', 'label']].corr()\n",
        "print(\"Correlation between text length and sentiment label:\")\n",
        "print(correlation)"
      ],
      "metadata": {
        "colab": {
          "base_uri": "https://localhost:8080/"
        },
        "id": "pWC9Dn4lNpsP",
        "outputId": "7cbea9da-7cfe-4ed7-c4c4-15a6c6deb183"
      },
      "execution_count": 14,
      "outputs": [
        {
          "output_type": "stream",
          "name": "stdout",
          "text": [
            "Correlation between text length and sentiment label:\n",
            "             text_length     label\n",
            "text_length     1.000000 -0.140875\n",
            "label          -0.140875  1.000000\n"
          ]
        }
      ]
    },
    {
      "cell_type": "code",
      "source": [
        "# Bar plot for label distribution\n",
        "plt.figure(figsize=(6, 4))\n",
        "sns.countplot(x='label', data=train_df)\n",
        "plt.title('Distribution of Sentiment Labels')\n",
        "plt.xlabel('Sentiment Label')\n",
        "plt.ylabel('Count')\n",
        "plt.show()"
      ],
      "metadata": {
        "colab": {
          "base_uri": "https://localhost:8080/",
          "height": 410
        },
        "id": "s4skhMo7N-cT",
        "outputId": "6b794d41-8929-41f4-8e0e-b49c229b702e"
      },
      "execution_count": 15,
      "outputs": [
        {
          "output_type": "display_data",
          "data": {
            "text/plain": [
              "<Figure size 600x400 with 1 Axes>"
            ],
            "image/png": "[encoded data removed]"
          },
          "metadata": {}
        }
      ]
    },
    {
      "cell_type": "code",
      "source": [
        "# Box plot for text length by label\n",
        "plt.figure(figsize=(10, 6))\n",
        "sns.boxplot(x='label', y='text_length', data=train_df)\n",
        "plt.title('Text Length Distribution by Sentiment Label')\n",
        "plt.xlabel('Sentiment Label')\n",
        "plt.ylabel('Text Length')\n",
        "plt.show()"
      ],
      "metadata": {
        "colab": {
          "base_uri": "https://localhost:8080/",
          "height": 564
        },
        "id": "SfnEtRpqOCUe",
        "outputId": "0e982be3-e47e-43d9-8e6b-bc99e899d6cc"
      },
      "execution_count": 16,
      "outputs": [
        {
          "output_type": "display_data",
          "data": {
            "text/plain": [
              "<Figure size 1000x600 with 1 Axes>"
            ],
            "image/png": "[encoded data removed]"
          },
          "metadata": {}
        }
      ]
    },
    {
      "cell_type": "code",
      "source": [
        "# Limit the train to the first 10,000 rows\n",
        "train_df = train_df[:5000]\n",
        "\n"
      ],
      "metadata": {
        "id": "0mlPo_fIOGbQ"
      },
      "execution_count": 71,
      "outputs": []
    },
    {
      "cell_type": "code",
      "source": [
        "# Check the column names and first few rows\n",
        "print(train_df.columns)\n",
        "\n",
        "# Display the first few rows of the DataFrame\n",
        "print(train_df.head())"
      ],
      "metadata": {
        "colab": {
          "base_uri": "https://localhost:8080/"
        },
        "id": "IP3c_QYGPJ4b",
        "outputId": "9713dc52-5416-4763-8a99-b7da8cb8bb80"
      },
      "execution_count": 72,
      "outputs": [
        {
          "output_type": "stream",
          "name": "stdout",
          "text": [
            "Index(['text', 'label'], dtype='object')\n",
            "                                                text  label\n",
            "0  Unfortunately, the frustration of being Dr. Go...      0\n",
            "1  Been going to Dr. Goldberg for over 10 years. ...      1\n",
            "2  I don't know what Dr. Goldberg was like before...      0\n",
            "3  I'm writing this review to give you a heads up...      0\n",
            "4  All the food is great here. But the best thing...      1\n"
          ]
        }
      ]
    },
    {
      "cell_type": "code",
      "source": [
        "# Drop the 'text_length' column and keep only 'text' and 'label'\n",
        "train_df = train_df[['text', 'label']]\n",
        "\n",
        "# Verify the new shape and columns\n",
        "print(f\"Train Data Shape after removing 'text_length': {train_df.shape}\")\n",
        "print(train_df.head())\n"
      ],
      "metadata": {
        "colab": {
          "base_uri": "https://localhost:8080/"
        },
        "id": "-12Df6gePXQ5",
        "outputId": "5a0301c9-3c44-4ae0-b103-24d7c70625f3"
      },
      "execution_count": 73,
      "outputs": [
        {
          "output_type": "stream",
          "name": "stdout",
          "text": [
            "Train Data Shape after removing 'text_length': (1000, 2)\n",
            "                                                text  label\n",
            "0  Unfortunately, the frustration of being Dr. Go...      0\n",
            "1  Been going to Dr. Goldberg for over 10 years. ...      1\n",
            "2  I don't know what Dr. Goldberg was like before...      0\n",
            "3  I'm writing this review to give you a heads up...      0\n",
            "4  All the food is great here. But the best thing...      1\n"
          ]
        }
      ]
    },
    {
      "cell_type": "code",
      "source": [
        "#print the test data shape\n",
        "test_df.shape"
      ],
      "metadata": {
        "colab": {
          "base_uri": "https://localhost:8080/"
        },
        "id": "b4WjGl27PYpM",
        "outputId": "89e71e84-ba46-446d-eea3-24a8340bf2a8"
      },
      "execution_count": 74,
      "outputs": [
        {
          "output_type": "execute_result",
          "data": {
            "text/plain": [
              "(500, 2)"
            ]
          },
          "metadata": {},
          "execution_count": 74
        }
      ]
    },
    {
      "cell_type": "code",
      "source": [
        "# Limit the test DataFrame to the first 5,000 rows\n",
        "test_df = test_df[:1000]\n",
        "\n",
        "# Verify the new shape of the test DataFrame\n",
        "print(f\"Test Data Shape after limiting: {test_df.shape}\")\n",
        "print(test_df.head())\n"
      ],
      "metadata": {
        "colab": {
          "base_uri": "https://localhost:8080/"
        },
        "id": "z5rb71OLPij0",
        "outputId": "b1df1f57-117e-44cf-c23c-86ba44ecb5bf"
      },
      "execution_count": 75,
      "outputs": [
        {
          "output_type": "stream",
          "name": "stdout",
          "text": [
            "Test Data Shape after limiting: (500, 2)\n",
            "                                                text  label\n",
            "0  Contrary to other reviews, I have zero complai...      1\n",
            "1  Last summer I had an appointment to get new ti...      0\n",
            "2  Friendly staff, same starbucks fair you get an...      1\n",
            "3  The food is good. Unfortunately the service is...      0\n",
            "4  Even when we didn't have a car Filene's Baseme...      1\n"
          ]
        }
      ]
    },
    {
      "cell_type": "code",
      "source": [
        "# Load the DistilBERT tokenizer\n",
        "tokenizer = DistilBertTokenizer.from_pretrained('distilbert-base-uncased')"
      ],
      "metadata": {
        "id": "6Rb1UA-DQEqE"
      },
      "execution_count": 76,
      "outputs": []
    },
    {
      "cell_type": "code",
      "source": [
        "# Tokenize the text data\n",
        "def tokenize_function(texts):\n",
        "    return tokenizer(\n",
        "        texts.tolist(),\n",
        "        padding='max_length',  # Pad to max length\n",
        "        truncation=True,       # Truncate to max length\n",
        "        max_length=128,        # Max length for BERT\n",
        "        return_tensors='tf'    # Return as TensorFlow tensors\n",
        "    )"
      ],
      "metadata": {
        "id": "-yEw0CL3QKPo"
      },
      "execution_count": 77,
      "outputs": []
    },
    {
      "cell_type": "code",
      "source": [
        "# Tokenize the train and test data\n",
        "train_encodings = tokenize_function(train_df['text'])\n",
        "test_encodings = tokenize_function(test_df['text'])"
      ],
      "metadata": {
        "id": "0Vv_KfODQLo9"
      },
      "execution_count": 78,
      "outputs": []
    },
    {
      "cell_type": "code",
      "source": [
        "# Convert labels to TensorFlow tensors\n",
        "train_labels = tf.convert_to_tensor(train_df['label'].values)\n",
        "test_labels = tf.convert_to_tensor(test_df['label'].values)"
      ],
      "metadata": {
        "id": "kjQv8gV-Qf-d"
      },
      "execution_count": 79,
      "outputs": []
    },
    {
      "cell_type": "code",
      "source": [
        "# Create TensorFlow datasets\n",
        "train_dataset = tf.data.Dataset.from_tensor_slices((dict(train_encodings), train_labels))\n",
        "test_dataset = tf.data.Dataset.from_tensor_slices((dict(test_encodings), test_labels))\n",
        "\n",
        "# Verify the dataset structure\n",
        "for batch in train_dataset.take(1):\n",
        "    print(batch)"
      ],
      "metadata": {
        "colab": {
          "base_uri": "https://localhost:8080/"
        },
        "id": "u46t2rNXQizx",
        "outputId": "f9c58005-d411-4dfa-a84f-aaf01ef29d91"
      },
      "execution_count": 80,
      "outputs": [
        {
          "output_type": "stream",
          "name": "stdout",
          "text": [
            "({'input_ids': <tf.Tensor: shape=(128,), dtype=int32, numpy=\n",
            "array([  101,  6854,  1010,  1996,  9135,  1997,  2108,  2852,  1012,\n",
            "       18522,  1005,  1055,  5776,  2003,  1037,  9377,  1997,  1996,\n",
            "        3325,  1045,  1005,  2310,  2018,  2007,  2061,  2116,  2060,\n",
            "        7435,  1999, 16392,  1011,  1011,  2204,  3460,  1010,  6659,\n",
            "        3095,  1012,  2009,  3849,  2008,  2010,  3095,  3432,  2196,\n",
            "        6998,  1996,  3042,  1012,  2009,  2788,  3138,  1016,  2847,\n",
            "        1997,  5567,  4214,  2000,  2131,  2019,  3437,  1012,  2040,\n",
            "        2038,  2051,  2005,  2008,  2030,  4122,  2000,  3066,  2007,\n",
            "        2009,  1029,  1045,  2031,  2448,  2046,  2023,  3291,  2007,\n",
            "        2116,  2060,  7435,  1998,  1045,  2074,  2123,  1005,  1056,\n",
            "        2131,  2009,  1012,  2017,  2031,  2436,  3667,  1010,  2017,\n",
            "        2031,  5022,  2007,  2966,  3791,  1010,  2339,  3475,  1005,\n",
            "        1056,  3087, 10739,  1996,  3042,  1029,  2009,  1005,  1055,\n",
            "        4297, 25377,  2890, 10222, 19307,  1998,  2025,  2147,  1996,\n",
            "       12943,   102], dtype=int32)>, 'attention_mask': <tf.Tensor: shape=(128,), dtype=int32, numpy=\n",
            "array([1, 1, 1, 1, 1, 1, 1, 1, 1, 1, 1, 1, 1, 1, 1, 1, 1, 1, 1, 1, 1, 1,\n",
            "       1, 1, 1, 1, 1, 1, 1, 1, 1, 1, 1, 1, 1, 1, 1, 1, 1, 1, 1, 1, 1, 1,\n",
            "       1, 1, 1, 1, 1, 1, 1, 1, 1, 1, 1, 1, 1, 1, 1, 1, 1, 1, 1, 1, 1, 1,\n",
            "       1, 1, 1, 1, 1, 1, 1, 1, 1, 1, 1, 1, 1, 1, 1, 1, 1, 1, 1, 1, 1, 1,\n",
            "       1, 1, 1, 1, 1, 1, 1, 1, 1, 1, 1, 1, 1, 1, 1, 1, 1, 1, 1, 1, 1, 1,\n",
            "       1, 1, 1, 1, 1, 1, 1, 1, 1, 1, 1, 1, 1, 1, 1, 1, 1, 1], dtype=int32)>}, <tf.Tensor: shape=(), dtype=int64, numpy=0>)\n"
          ]
        }
      ]
    },
    {
      "cell_type": "code",
      "source": [
        "# Load pre-trained DistilBERT model for sequence classification\n",
        "model = TFDistilBertForSequenceClassification.from_pretrained('distilbert-base-uncased', num_labels =2)\n",
        "\n",
        "# Display the model summary\n",
        "model.summary()"
      ],
      "metadata": {
        "colab": {
          "base_uri": "https://localhost:8080/"
        },
        "id": "AkP55QWvQ323",
        "outputId": "b6409879-0177-4038-8b1e-ec056bfa3935"
      },
      "execution_count": 81,
      "outputs": [
        {
          "output_type": "stream",
          "name": "stderr",
          "text": [
            "Some weights of the PyTorch model were not used when initializing the TF 2.0 model TFDistilBertForSequenceClassification: ['vocab_layer_norm.bias', 'vocab_projector.bias', 'vocab_transform.bias', 'vocab_transform.weight', 'vocab_layer_norm.weight']\n",
            "- This IS expected if you are initializing TFDistilBertForSequenceClassification from a PyTorch model trained on another task or with another architecture (e.g. initializing a TFBertForSequenceClassification model from a BertForPreTraining model).\n",
            "- This IS NOT expected if you are initializing TFDistilBertForSequenceClassification from a PyTorch model that you expect to be exactly identical (e.g. initializing a TFBertForSequenceClassification model from a BertForSequenceClassification model).\n",
            "Some weights or buffers of the TF 2.0 model TFDistilBertForSequenceClassification were not initialized from the PyTorch model and are newly initialized: ['pre_classifier.weight', 'pre_classifier.bias', 'classifier.weight', 'classifier.bias']\n",
            "You should probably TRAIN this model on a down-stream task to be able to use it for predictions and inference.\n"
          ]
        },
        {
          "output_type": "stream",
          "name": "stdout",
          "text": [
            "Model: \"tf_distil_bert_for_sequence_classification_6\"\n",
            "_________________________________________________________________\n",
            " Layer (type)                Output Shape              Param #   \n",
            "=================================================================\n",
            " distilbert (TFDistilBertMa  multiple                  66362880  \n",
            " inLayer)                                                        \n",
            "                                                                 \n",
            " pre_classifier (Dense)      multiple                  590592    \n",
            "                                                                 \n",
            " classifier (Dense)          multiple                  1538      \n",
            "                                                                 \n",
            " dropout_139 (Dropout)       multiple                  0 (unused)\n",
            "                                                                 \n",
            "=================================================================\n",
            "Total params: 66955010 (255.41 MB)\n",
            "Trainable params: 66955010 (255.41 MB)\n",
            "Non-trainable params: 0 (0.00 Byte)\n",
            "_________________________________________________________________\n"
          ]
        }
      ]
    },
    {
      "cell_type": "code",
      "source": [
        "# Convert labels to TensorFlow tensors (integer encoding for binary classification)\n",
        "train_labels = tf.convert_to_tensor(train_df['label'].values, dtype=tf.int64)\n",
        "test_labels = tf.convert_to_tensor(test_df['label'].values, dtype=tf.int64)\n",
        "\n",
        "# Create TensorFlow datasets\n",
        "train_dataset = tf.data.Dataset.from_tensor_slices((dict(train_encodings), train_labels))\n",
        "test_dataset = tf.data.Dataset.from_tensor_slices((dict(test_encodings), test_labels))\n"
      ],
      "metadata": {
        "id": "z1q6cMBqS5JS"
      },
      "execution_count": 82,
      "outputs": []
    },
    {
      "cell_type": "code",
      "source": [
        "# Compile the model\n",
        "model.compile(\n",
        "    optimizer=\"Adam\",\n",
        "    loss=tf.keras.losses.BinaryCrossentropy(from_logits=True),\n",
        "    metrics=['accuracy']\n",
        ")\n"
      ],
      "metadata": {
        "id": "XkMK4y6QR0aH"
      },
      "execution_count": 83,
      "outputs": []
    },
    {
      "cell_type": "code",
      "source": [
        "for batch in train_dataset.take(1):\n",
        "    inputs, labels = batch\n",
        "    print(\"Inputs:\", inputs)\n",
        "    print(\"Labels:\", labels)\n",
        "    print(\"Inputs shape:\", {k: v.shape for k, v in inputs.items()})\n",
        "    print(\"Labels shape:\", labels.shape)\n"
      ],
      "metadata": {
        "colab": {
          "base_uri": "https://localhost:8080/"
        },
        "id": "IY7xRPyjTPNw",
        "outputId": "dfacc8da-6564-4e3a-e081-eed780ff0b61"
      },
      "execution_count": 84,
      "outputs": [
        {
          "output_type": "stream",
          "name": "stdout",
          "text": [
            "Inputs: {'input_ids': <tf.Tensor: shape=(128,), dtype=int32, numpy=\n",
            "array([  101,  6854,  1010,  1996,  9135,  1997,  2108,  2852,  1012,\n",
            "       18522,  1005,  1055,  5776,  2003,  1037,  9377,  1997,  1996,\n",
            "        3325,  1045,  1005,  2310,  2018,  2007,  2061,  2116,  2060,\n",
            "        7435,  1999, 16392,  1011,  1011,  2204,  3460,  1010,  6659,\n",
            "        3095,  1012,  2009,  3849,  2008,  2010,  3095,  3432,  2196,\n",
            "        6998,  1996,  3042,  1012,  2009,  2788,  3138,  1016,  2847,\n",
            "        1997,  5567,  4214,  2000,  2131,  2019,  3437,  1012,  2040,\n",
            "        2038,  2051,  2005,  2008,  2030,  4122,  2000,  3066,  2007,\n",
            "        2009,  1029,  1045,  2031,  2448,  2046,  2023,  3291,  2007,\n",
            "        2116,  2060,  7435,  1998,  1045,  2074,  2123,  1005,  1056,\n",
            "        2131,  2009,  1012,  2017,  2031,  2436,  3667,  1010,  2017,\n",
            "        2031,  5022,  2007,  2966,  3791,  1010,  2339,  3475,  1005,\n",
            "        1056,  3087, 10739,  1996,  3042,  1029,  2009,  1005,  1055,\n",
            "        4297, 25377,  2890, 10222, 19307,  1998,  2025,  2147,  1996,\n",
            "       12943,   102], dtype=int32)>, 'attention_mask': <tf.Tensor: shape=(128,), dtype=int32, numpy=\n",
            "array([1, 1, 1, 1, 1, 1, 1, 1, 1, 1, 1, 1, 1, 1, 1, 1, 1, 1, 1, 1, 1, 1,\n",
            "       1, 1, 1, 1, 1, 1, 1, 1, 1, 1, 1, 1, 1, 1, 1, 1, 1, 1, 1, 1, 1, 1,\n",
            "       1, 1, 1, 1, 1, 1, 1, 1, 1, 1, 1, 1, 1, 1, 1, 1, 1, 1, 1, 1, 1, 1,\n",
            "       1, 1, 1, 1, 1, 1, 1, 1, 1, 1, 1, 1, 1, 1, 1, 1, 1, 1, 1, 1, 1, 1,\n",
            "       1, 1, 1, 1, 1, 1, 1, 1, 1, 1, 1, 1, 1, 1, 1, 1, 1, 1, 1, 1, 1, 1,\n",
            "       1, 1, 1, 1, 1, 1, 1, 1, 1, 1, 1, 1, 1, 1, 1, 1, 1, 1], dtype=int32)>}\n",
            "Labels: tf.Tensor(0, shape=(), dtype=int64)\n",
            "Inputs shape: {'input_ids': TensorShape([128]), 'attention_mask': TensorShape([128])}\n",
            "Labels shape: ()\n"
          ]
        }
      ]
    },
    {
      "cell_type": "code",
      "source": [
        "import tensorflow as tf\n",
        "\n",
        "def create_tf_dataset(encodings, labels):\n",
        "    dataset = tf.data.Dataset.from_tensor_slices((dict(encodings), labels))\n",
        "    return dataset.map(lambda x, y: (x, tf.reshape(y, (-1,))))\n",
        "\n",
        "# Tokenize the train and test data\n",
        "train_encodings = tokenize_function(train_df['text'])\n",
        "test_encodings = tokenize_function(test_df['text'])\n",
        "\n",
        "# Convert labels to TensorFlow tensors\n",
        "train_labels = tf.convert_to_tensor(train_df['label'].values, dtype=tf.int64)\n",
        "test_labels = tf.convert_to_tensor(test_df['label'].values, dtype=tf.int64)\n",
        "\n",
        "# Create TensorFlow datasets\n",
        "train_dataset = create_tf_dataset(train_encodings, train_labels)\n",
        "test_dataset = create_tf_dataset(test_encodings, test_labels)\n"
      ],
      "metadata": {
        "id": "FQiRQd3eTZ6o"
      },
      "execution_count": 85,
      "outputs": []
    },
    {
      "cell_type": "code",
      "source": [
        "from transformers import TFDistilBertForSequenceClassification\n",
        "from tensorflow.keras.optimizers import Adam\n",
        "\n",
        "# Initialize the model with num_labels=2 for binary classification\n",
        "model = TFDistilBertForSequenceClassification.from_pretrained('distilbert-base-uncased', num_labels=2)\n",
        "\n",
        "# Compile the model\n",
        "model.compile(\n",
        "    optimizer=\"Adam\",\n",
        "    loss='sparse_categorical_crossentropy',  # Suitable for integer-encoded labels\n",
        "    metrics=['accuracy']\n",
        ")\n"
      ],
      "metadata": {
        "colab": {
          "base_uri": "https://localhost:8080/"
        },
        "id": "C63ov2FnTd0t",
        "outputId": "6562105a-1d13-463d-fecc-7026c627afde"
      },
      "execution_count": 86,
      "outputs": [
        {
          "output_type": "stream",
          "name": "stderr",
          "text": [
            "Some weights of the PyTorch model were not used when initializing the TF 2.0 model TFDistilBertForSequenceClassification: ['vocab_layer_norm.bias', 'vocab_projector.bias', 'vocab_transform.bias', 'vocab_transform.weight', 'vocab_layer_norm.weight']\n",
            "- This IS expected if you are initializing TFDistilBertForSequenceClassification from a PyTorch model trained on another task or with another architecture (e.g. initializing a TFBertForSequenceClassification model from a BertForPreTraining model).\n",
            "- This IS NOT expected if you are initializing TFDistilBertForSequenceClassification from a PyTorch model that you expect to be exactly identical (e.g. initializing a TFBertForSequenceClassification model from a BertForSequenceClassification model).\n",
            "Some weights or buffers of the TF 2.0 model TFDistilBertForSequenceClassification were not initialized from the PyTorch model and are newly initialized: ['pre_classifier.weight', 'pre_classifier.bias', 'classifier.weight', 'classifier.bias']\n",
            "You should probably TRAIN this model on a down-stream task to be able to use it for predictions and inference.\n"
          ]
        }
      ]
    },
    {
      "cell_type": "code",
      "source": [
        "# Define training parameters\n",
        "batch_size = 32\n",
        "epochs = 3\n",
        "\n",
        "# Train the model\n",
        "history = model.fit(\n",
        "    train_dataset.shuffle(10000).batch(batch_size),\n",
        "    validation_data=test_dataset.batch(batch_size),\n",
        "    epochs=epochs\n",
        ")\n",
        "\n",
        "# Evaluate the model\n",
        "loss, accuracy = model.evaluate(test_dataset.batch(batch_size))\n",
        "print(f\"Test Loss: {loss:.4f}\")\n",
        "print(f\"Test Accuracy: {accuracy * 100:.2f}%\")"
      ],
      "metadata": {
        "colab": {
          "base_uri": "https://localhost:8080/"
        },
        "id": "e3JZrtLQUOHC",
        "outputId": "5a712072-cb79-4b4c-9b5e-e424fc27258d"
      },
      "execution_count": 87,
      "outputs": [
        {
          "output_type": "stream",
          "name": "stdout",
          "text": [
            "Epoch 1/3\n",
            "32/32 [==============================] - 805s 25s/step - loss: 1.8086 - accuracy: 0.5070 - val_loss: 0.6931 - val_accuracy: 0.5000\n",
            "Epoch 2/3\n",
            "32/32 [==============================] - 823s 26s/step - loss: 0.6931 - accuracy: 0.5340 - val_loss: 0.6931 - val_accuracy: 0.5000\n",
            "Epoch 3/3\n",
            "32/32 [==============================] - 788s 25s/step - loss: 0.6931 - accuracy: 0.5340 - val_loss: 0.6931 - val_accuracy: 0.5000\n",
            "16/16 [==============================] - 117s 7s/step - loss: 0.6931 - accuracy: 0.5000\n",
            "Test Loss: 0.6931\n",
            "Test Accuracy: 50.00%\n"
          ]
        }
      ]
    },
    {
      "cell_type": "code",
      "source": [
        "# Extract metrics from the history object\n",
        "history_dict = history.history\n",
        "epochs_range = range(1, len(history_dict['loss']) + 1)\n",
        "\n",
        "# Plot loss\n",
        "plt.figure(figsize=(12, 6))\n",
        "plt.subplot(1, 2, 1)\n",
        "plt.plot(epochs_range, history_dict['loss'], label='Training Loss')\n",
        "plt.plot(epochs_range, history_dict['val_loss'], label='Validation Loss')\n",
        "plt.title('Training and Validation Loss')\n",
        "plt.xlabel('Epochs')\n",
        "plt.ylabel('Loss')\n",
        "plt.legend()\n",
        "\n",
        "# Plot accuracy\n",
        "plt.subplot(1, 2, 2)\n",
        "plt.plot(epochs_range, history_dict['accuracy'], label='Training Accuracy')\n",
        "plt.plot(epochs_range, history_dict['val_accuracy'], label='Validation Accuracy')\n",
        "plt.title('Training and Validation Accuracy')\n",
        "plt.xlabel('Epochs')\n",
        "plt.ylabel('Accuracy')\n",
        "plt.legend()\n",
        "\n",
        "plt.tight_layout()\n",
        "plt.show()"
      ],
      "metadata": {
        "colab": {
          "base_uri": "https://localhost:8080/",
          "height": 607
        },
        "id": "UmUNYpglsCxh",
        "outputId": "5127a37e-16d9-4488-a842-2a3b4d1af67b"
      },
      "execution_count": 88,
      "outputs": [
        {
          "output_type": "display_data",
          "data": {
            "text/plain": [
              "<Figure size 1200x600 with 2 Axes>"
            ],
            "image/png": "[encoded data removed]"
          },
          "metadata": {}
        }
      ]
    },
    {
      "cell_type": "code",
      "source": [
        "# Example text for prediction\n",
        "texts_to_predict = [\n",
        "    \"The food was great and the service was excellent!\",\n",
        "    \"I did not enjoy the meal. The service was slow.\",\n",
        "]\n",
        "\n",
        "# Tokenize the new texts\n",
        "pred_encodings = tokenize_function(pd.Series(texts_to_predict))\n",
        "\n",
        "# Create a TensorFlow dataset for prediction\n",
        "pred_dataset = tf.data.Dataset.from_tensor_slices(dict(pred_encodings))\n",
        "pred_dataset = pred_dataset.batch(1)  # Batch size of 1 for predictions\n"
      ],
      "metadata": {
        "id": "PR0WJNw6tNd4"
      },
      "execution_count": 89,
      "outputs": []
    },
    {
      "cell_type": "code",
      "source": [
        "# Make predictions\n",
        "predictions = model.predict(pred_dataset)\n",
        "\n",
        "# The model outputs logits; apply softmax to get probabilities\n",
        "predicted_probs = tf.nn.softmax(predictions.logits, axis=-1)\n"
      ],
      "metadata": {
        "colab": {
          "base_uri": "https://localhost:8080/"
        },
        "id": "WWyQaP68tOsn",
        "outputId": "635fd259-1e50-4d11-84c4-e75fe483c469"
      },
      "execution_count": 90,
      "outputs": [
        {
          "output_type": "stream",
          "name": "stdout",
          "text": [
            "2/2 [==============================] - 2s 223ms/step\n"
          ]
        }
      ]
    },
    {
      "cell_type": "code",
      "source": [
        "\n",
        "# Convert predictions to class labels\n",
        "predicted_labels = np.argmax(predicted_probs, axis=-1)\n",
        "\n",
        "# Print the predictions\n",
        "for text, label in zip(texts_to_predict, predicted_labels):\n",
        "    print(f\"Text: {text}\")\n",
        "    print(f\"Predicted label: {label}\")\n",
        "    print(\"---\")"
      ],
      "metadata": {
        "colab": {
          "base_uri": "https://localhost:8080/"
        },
        "id": "dGoTFf-UtSnv",
        "outputId": "2d972050-6d10-4a50-83bc-7c7cc07c728d"
      },
      "execution_count": 91,
      "outputs": [
        {
          "output_type": "stream",
          "name": "stdout",
          "text": [
            "Text: The food was great and the service was excellent!\n",
            "Predicted label: 0\n",
            "---\n",
            "Text: I did not enjoy the meal. The service was slow.\n",
            "Predicted label: 0\n",
            "---\n"
          ]
        }
      ]
    },
    {
      "cell_type": "code",
      "source": [],
      "metadata": {
        "id": "4fqe5j9XtadL"
      },
      "execution_count": 91,
      "outputs": []
    }
  ]
}