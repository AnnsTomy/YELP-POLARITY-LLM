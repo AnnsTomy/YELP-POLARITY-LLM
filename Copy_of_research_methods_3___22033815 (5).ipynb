{
  "nbformat": 4,
  "nbformat_minor": 0,
  "metadata": {
    "colab": {
      "provenance": [],
      "gpuType": "T4"
    },
    "kernelspec": {
      "name": "python3",
      "display_name": "Python 3"
    },
    "language_info": {
      "name": "python"
    },
    "accelerator": "GPU",
    "widgets": {
      "application/vnd.jupyter.widget-state+json": {
        "e0ce5b077d1645879e9c4286cdb4ba34": {
          "model_module": "@jupyter-widgets/controls",
          "model_name": "TextareaModel",
          "model_module_version": "1.5.0",
          "state": {
            "_dom_classes": [],
            "_model_module": "@jupyter-widgets/controls",
            "_model_module_version": "1.5.0",
            "_model_name": "TextareaModel",
            "_view_count": null,
            "_view_module": "@jupyter-widgets/controls",
            "_view_module_version": "1.5.0",
            "_view_name": "TextareaView",
            "continuous_update": true,
            "description": "Input Text:",
            "description_tooltip": null,
            "disabled": false,
            "layout": "IPY_MODEL_96a208dd088e4f38a6b17570c07994b8",
            "placeholder": "Type something",
            "rows": null,
            "style": "IPY_MODEL_de674dddce604fe98a6fa33a9593e020",
            "value": ""
          }
        },
        "96a208dd088e4f38a6b17570c07994b8": {
          "model_module": "@jupyter-widgets/base",
          "model_name": "LayoutModel",
          "model_module_version": "1.2.0",
          "state": {
            "_model_module": "@jupyter-widgets/base",
            "_model_module_version": "1.2.0",
            "_model_name": "LayoutModel",
            "_view_count": null,
            "_view_module": "@jupyter-widgets/base",
            "_view_module_version": "1.2.0",
            "_view_name": "LayoutView",
            "align_content": null,
            "align_items": null,
            "align_self": null,
            "border": null,
            "bottom": null,
            "display": null,
            "flex": null,
            "flex_flow": null,
            "grid_area": null,
            "grid_auto_columns": null,
            "grid_auto_flow": null,
            "grid_auto_rows": null,
            "grid_column": null,
            "grid_gap": null,
            "grid_row": null,
            "grid_template_areas": null,
            "grid_template_columns": null,
            "grid_template_rows": null,
            "height": "100px",
            "justify_content": null,
            "justify_items": null,
            "left": null,
            "margin": null,
            "max_height": null,
            "max_width": null,
            "min_height": null,
            "min_width": null,
            "object_fit": null,
            "object_position": null,
            "order": null,
            "overflow": null,
            "overflow_x": null,
            "overflow_y": null,
            "padding": null,
            "right": null,
            "top": null,
            "visibility": null,
            "width": "80%"
          }
        },
        "de674dddce604fe98a6fa33a9593e020": {
          "model_module": "@jupyter-widgets/controls",
          "model_name": "DescriptionStyleModel",
          "model_module_version": "1.5.0",
          "state": {
            "_model_module": "@jupyter-widgets/controls",
            "_model_module_version": "1.5.0",
            "_model_name": "DescriptionStyleModel",
            "_view_count": null,
            "_view_module": "@jupyter-widgets/base",
            "_view_module_version": "1.2.0",
            "_view_name": "StyleView",
            "description_width": ""
          }
        },
        "b3351754992b4798a54190a48de17258": {
          "model_module": "@jupyter-widgets/controls",
          "model_name": "ButtonModel",
          "model_module_version": "1.5.0",
          "state": {
            "_dom_classes": [],
            "_model_module": "@jupyter-widgets/controls",
            "_model_module_version": "1.5.0",
            "_model_name": "ButtonModel",
            "_view_count": null,
            "_view_module": "@jupyter-widgets/controls",
            "_view_module_version": "1.5.0",
            "_view_name": "ButtonView",
            "button_style": "",
            "description": "Predict",
            "disabled": false,
            "icon": "",
            "layout": "IPY_MODEL_febb4f2565314690aa4d1b7019a493a1",
            "style": "IPY_MODEL_f84052c090a74ec3bc592526b7ed0453",
            "tooltip": ""
          }
        },
        "febb4f2565314690aa4d1b7019a493a1": {
          "model_module": "@jupyter-widgets/base",
          "model_name": "LayoutModel",
          "model_module_version": "1.2.0",
          "state": {
            "_model_module": "@jupyter-widgets/base",
            "_model_module_version": "1.2.0",
            "_model_name": "LayoutModel",
            "_view_count": null,
            "_view_module": "@jupyter-widgets/base",
            "_view_module_version": "1.2.0",
            "_view_name": "LayoutView",
            "align_content": null,
            "align_items": null,
            "align_self": null,
            "border": null,
            "bottom": null,
            "display": null,
            "flex": null,
            "flex_flow": null,
            "grid_area": null,
            "grid_auto_columns": null,
            "grid_auto_flow": null,
            "grid_auto_rows": null,
            "grid_column": null,
            "grid_gap": null,
            "grid_row": null,
            "grid_template_areas": null,
            "grid_template_columns": null,
            "grid_template_rows": null,
            "height": null,
            "justify_content": null,
            "justify_items": null,
            "left": null,
            "margin": null,
            "max_height": null,
            "max_width": null,
            "min_height": null,
            "min_width": null,
            "object_fit": null,
            "object_position": null,
            "order": null,
            "overflow": null,
            "overflow_x": null,
            "overflow_y": null,
            "padding": null,
            "right": null,
            "top": null,
            "visibility": null,
            "width": null
          }
        },
        "f84052c090a74ec3bc592526b7ed0453": {
          "model_module": "@jupyter-widgets/controls",
          "model_name": "ButtonStyleModel",
          "model_module_version": "1.5.0",
          "state": {
            "_model_module": "@jupyter-widgets/controls",
            "_model_module_version": "1.5.0",
            "_model_name": "ButtonStyleModel",
            "_view_count": null,
            "_view_module": "@jupyter-widgets/base",
            "_view_module_version": "1.2.0",
            "_view_name": "StyleView",
            "button_color": null,
            "font_weight": ""
          }
        }
      }
    }
  },
  "cells": [
    {
      "cell_type": "code",
      "source": [
        "# Install required libraries if not already installed\n",
        "!pip install transformers tensorflow\n"
      ],
      "metadata": {
        "colab": {
          "base_uri": "https://localhost:8080/"
        },
        "id": "kLjhiXzIPtGR",
        "outputId": "0f9655c4-51b1-4d98-9a5f-4b0268c459ba"
      },
      "execution_count": 39,
      "outputs": [
        {
          "output_type": "stream",
          "name": "stdout",
          "text": [
            "Requirement already satisfied: transformers in /usr/local/lib/python3.10/dist-packages (4.42.4)\n",
            "Requirement already satisfied: tensorflow in /usr/local/lib/python3.10/dist-packages (2.17.0)\n",
            "Requirement already satisfied: filelock in /usr/local/lib/python3.10/dist-packages (from transformers) (3.15.4)\n",
            "Requirement already satisfied: huggingface-hub<1.0,>=0.23.2 in /usr/local/lib/python3.10/dist-packages (from transformers) (0.23.5)\n",
            "Requirement already satisfied: numpy<2.0,>=1.17 in /usr/local/lib/python3.10/dist-packages (from transformers) (1.26.4)\n",
            "Requirement already satisfied: packaging>=20.0 in /usr/local/lib/python3.10/dist-packages (from transformers) (24.1)\n",
            "Requirement already satisfied: pyyaml>=5.1 in /usr/local/lib/python3.10/dist-packages (from transformers) (6.0.2)\n",
            "Requirement already satisfied: regex!=2019.12.17 in /usr/local/lib/python3.10/dist-packages (from transformers) (2024.5.15)\n",
            "Requirement already satisfied: requests in /usr/local/lib/python3.10/dist-packages (from transformers) (2.32.3)\n",
            "Requirement already satisfied: safetensors>=0.4.1 in /usr/local/lib/python3.10/dist-packages (from transformers) (0.4.4)\n",
            "Requirement already satisfied: tokenizers<0.20,>=0.19 in /usr/local/lib/python3.10/dist-packages (from transformers) (0.19.1)\n",
            "Requirement already satisfied: tqdm>=4.27 in /usr/local/lib/python3.10/dist-packages (from transformers) (4.66.5)\n",
            "Requirement already satisfied: absl-py>=1.0.0 in /usr/local/lib/python3.10/dist-packages (from tensorflow) (1.4.0)\n",
            "Requirement already satisfied: astunparse>=1.6.0 in /usr/local/lib/python3.10/dist-packages (from tensorflow) (1.6.3)\n",
            "Requirement already satisfied: flatbuffers>=24.3.25 in /usr/local/lib/python3.10/dist-packages (from tensorflow) (24.3.25)\n",
            "Requirement already satisfied: gast!=0.5.0,!=0.5.1,!=0.5.2,>=0.2.1 in /usr/local/lib/python3.10/dist-packages (from tensorflow) (0.6.0)\n",
            "Requirement already satisfied: google-pasta>=0.1.1 in /usr/local/lib/python3.10/dist-packages (from tensorflow) (0.2.0)\n",
            "Requirement already satisfied: h5py>=3.10.0 in /usr/local/lib/python3.10/dist-packages (from tensorflow) (3.11.0)\n",
            "Requirement already satisfied: libclang>=13.0.0 in /usr/local/lib/python3.10/dist-packages (from tensorflow) (18.1.1)\n",
            "Requirement already satisfied: ml-dtypes<0.5.0,>=0.3.1 in /usr/local/lib/python3.10/dist-packages (from tensorflow) (0.4.0)\n",
            "Requirement already satisfied: opt-einsum>=2.3.2 in /usr/local/lib/python3.10/dist-packages (from tensorflow) (3.3.0)\n",
            "Requirement already satisfied: protobuf!=4.21.0,!=4.21.1,!=4.21.2,!=4.21.3,!=4.21.4,!=4.21.5,<5.0.0dev,>=3.20.3 in /usr/local/lib/python3.10/dist-packages (from tensorflow) (3.20.3)\n",
            "Requirement already satisfied: setuptools in /usr/local/lib/python3.10/dist-packages (from tensorflow) (71.0.4)\n",
            "Requirement already satisfied: six>=1.12.0 in /usr/local/lib/python3.10/dist-packages (from tensorflow) (1.16.0)\n",
            "Requirement already satisfied: termcolor>=1.1.0 in /usr/local/lib/python3.10/dist-packages (from tensorflow) (2.4.0)\n",
            "Requirement already satisfied: typing-extensions>=3.6.6 in /usr/local/lib/python3.10/dist-packages (from tensorflow) (4.12.2)\n",
            "Requirement already satisfied: wrapt>=1.11.0 in /usr/local/lib/python3.10/dist-packages (from tensorflow) (1.16.0)\n",
            "Requirement already satisfied: grpcio<2.0,>=1.24.3 in /usr/local/lib/python3.10/dist-packages (from tensorflow) (1.64.1)\n",
            "Requirement already satisfied: tensorboard<2.18,>=2.17 in /usr/local/lib/python3.10/dist-packages (from tensorflow) (2.17.0)\n",
            "Requirement already satisfied: keras>=3.2.0 in /usr/local/lib/python3.10/dist-packages (from tensorflow) (3.4.1)\n",
            "Requirement already satisfied: tensorflow-io-gcs-filesystem>=0.23.1 in /usr/local/lib/python3.10/dist-packages (from tensorflow) (0.37.1)\n",
            "Requirement already satisfied: wheel<1.0,>=0.23.0 in /usr/local/lib/python3.10/dist-packages (from astunparse>=1.6.0->tensorflow) (0.44.0)\n",
            "Requirement already satisfied: fsspec>=2023.5.0 in /usr/local/lib/python3.10/dist-packages (from huggingface-hub<1.0,>=0.23.2->transformers) (2024.6.1)\n",
            "Requirement already satisfied: rich in /usr/local/lib/python3.10/dist-packages (from keras>=3.2.0->tensorflow) (13.7.1)\n",
            "Requirement already satisfied: namex in /usr/local/lib/python3.10/dist-packages (from keras>=3.2.0->tensorflow) (0.0.8)\n",
            "Requirement already satisfied: optree in /usr/local/lib/python3.10/dist-packages (from keras>=3.2.0->tensorflow) (0.12.1)\n",
            "Requirement already satisfied: charset-normalizer<4,>=2 in /usr/local/lib/python3.10/dist-packages (from requests->transformers) (3.3.2)\n",
            "Requirement already satisfied: idna<4,>=2.5 in /usr/local/lib/python3.10/dist-packages (from requests->transformers) (3.7)\n",
            "Requirement already satisfied: urllib3<3,>=1.21.1 in /usr/local/lib/python3.10/dist-packages (from requests->transformers) (2.0.7)\n",
            "Requirement already satisfied: certifi>=2017.4.17 in /usr/local/lib/python3.10/dist-packages (from requests->transformers) (2024.7.4)\n",
            "Requirement already satisfied: markdown>=2.6.8 in /usr/local/lib/python3.10/dist-packages (from tensorboard<2.18,>=2.17->tensorflow) (3.6)\n",
            "Requirement already satisfied: tensorboard-data-server<0.8.0,>=0.7.0 in /usr/local/lib/python3.10/dist-packages (from tensorboard<2.18,>=2.17->tensorflow) (0.7.2)\n",
            "Requirement already satisfied: werkzeug>=1.0.1 in /usr/local/lib/python3.10/dist-packages (from tensorboard<2.18,>=2.17->tensorflow) (3.0.3)\n",
            "Requirement already satisfied: MarkupSafe>=2.1.1 in /usr/local/lib/python3.10/dist-packages (from werkzeug>=1.0.1->tensorboard<2.18,>=2.17->tensorflow) (2.1.5)\n",
            "Requirement already satisfied: markdown-it-py>=2.2.0 in /usr/local/lib/python3.10/dist-packages (from rich->keras>=3.2.0->tensorflow) (3.0.0)\n",
            "Requirement already satisfied: pygments<3.0.0,>=2.13.0 in /usr/local/lib/python3.10/dist-packages (from rich->keras>=3.2.0->tensorflow) (2.16.1)\n",
            "Requirement already satisfied: mdurl~=0.1 in /usr/local/lib/python3.10/dist-packages (from markdown-it-py>=2.2.0->rich->keras>=3.2.0->tensorflow) (0.1.2)\n"
          ]
        }
      ]
    },
    {
      "cell_type": "code",
      "source": [
        "import tensorflow as tf\n",
        "import pandas as pd\n",
        "import matplotlib.pyplot as plt\n",
        "import seaborn as sns\n",
        "import tensorflow as tf\n",
        "from transformers import DistilBertTokenizer\n",
        "import numpy as np\n",
        "from transformers import TFDistilBertForSequenceClassification\n",
        "from tensorflow.keras.optimizers import Adam"
      ],
      "metadata": {
        "id": "diIFdrY4T7Lk"
      },
      "execution_count": 40,
      "outputs": []
    },
    {
      "cell_type": "code",
      "execution_count": 41,
      "metadata": {
        "id": "oigOG618Ksk8"
      },
      "outputs": [],
      "source": [
        "#loading the data\n",
        "\n",
        "splits = {'train': 'plain_text/train-00000-of-00001.parquet', 'test': 'plain_text/test-00000-of-00001.parquet'}\n",
        "train_df = pd.read_parquet(\"hf://datasets/fancyzhx/yelp_polarity/\" + splits[\"train\"])\n",
        "test_df = pd.read_parquet(\"hf://datasets/fancyzhx/yelp_polarity/\" + splits[\"test\"])"
      ]
    },
    {
      "cell_type": "markdown",
      "source": [
        "EDA"
      ],
      "metadata": {
        "id": "dmp6hKSBy0S1"
      }
    },
    {
      "cell_type": "code",
      "source": [
        "#print the dataframes\n",
        "print(train_df)\n",
        "print(test_df)"
      ],
      "metadata": {
        "colab": {
          "base_uri": "https://localhost:8080/"
        },
        "id": "FUJeZvCjLhtq",
        "outputId": "ee0e3585-cb2f-4801-b10d-ae03fa8a7f68"
      },
      "execution_count": 42,
      "outputs": [
        {
          "output_type": "stream",
          "name": "stdout",
          "text": [
            "                                                     text  label\n",
            "0       Unfortunately, the frustration of being Dr. Go...      0\n",
            "1       Been going to Dr. Goldberg for over 10 years. ...      1\n",
            "2       I don't know what Dr. Goldberg was like before...      0\n",
            "3       I'm writing this review to give you a heads up...      0\n",
            "4       All the food is great here. But the best thing...      1\n",
            "...                                                   ...    ...\n",
            "559995  Ryan was as good as everyone on yelp has claim...      1\n",
            "559996  Professional \\nFriendly\\nOn time AND affordabl...      1\n",
            "559997  Phone calls always go to voicemail and message...      0\n",
            "559998  Looks like all of the good reviews have gone t...      0\n",
            "559999  Ryan Rocks! I called him this morning for some...      1\n",
            "\n",
            "[560000 rows x 2 columns]\n",
            "                                                    text  label\n",
            "0      Contrary to other reviews, I have zero complai...      1\n",
            "1      Last summer I had an appointment to get new ti...      0\n",
            "2      Friendly staff, same starbucks fair you get an...      1\n",
            "3      The food is good. Unfortunately the service is...      0\n",
            "4      Even when we didn't have a car Filene's Baseme...      1\n",
            "...                                                  ...    ...\n",
            "37995         If I could give 0...I would.  Don't do it.      0\n",
            "37996  Items Selected:\\nChocolate Cinnamon Horn\\nSmal...      1\n",
            "37997  Expensive lunch meals.  Fried pickles were goo...      0\n",
            "37998  Highly overpriced and food was cold. Our waitr...      0\n",
            "37999  I have been using this company for 11 months. ...      0\n",
            "\n",
            "[38000 rows x 2 columns]\n"
          ]
        }
      ]
    },
    {
      "cell_type": "code",
      "source": [
        "# Check the shape of the DataFrames\n",
        "print(f\"Train Data Shape: {train_df.shape}\")\n",
        "print(f\"Test Data Shape: {test_df.shape}\")"
      ],
      "metadata": {
        "colab": {
          "base_uri": "https://localhost:8080/"
        },
        "id": "eAGWSwhxL1ZE",
        "outputId": "674229ad-aa92-4ba7-9a2f-1803a2dc9428"
      },
      "execution_count": 43,
      "outputs": [
        {
          "output_type": "stream",
          "name": "stdout",
          "text": [
            "Train Data Shape: (560000, 2)\n",
            "Test Data Shape: (38000, 2)\n"
          ]
        }
      ]
    },
    {
      "cell_type": "code",
      "source": [
        "# Display the first few rows to verify the content\n",
        "print(train_df.head())\n",
        "print(test_df.head())"
      ],
      "metadata": {
        "colab": {
          "base_uri": "https://localhost:8080/"
        },
        "id": "DPaLY1XIL2fo",
        "outputId": "b85f68bb-41d2-4bfa-aa00-6099406778de"
      },
      "execution_count": 44,
      "outputs": [
        {
          "output_type": "stream",
          "name": "stdout",
          "text": [
            "                                                text  label\n",
            "0  Unfortunately, the frustration of being Dr. Go...      0\n",
            "1  Been going to Dr. Goldberg for over 10 years. ...      1\n",
            "2  I don't know what Dr. Goldberg was like before...      0\n",
            "3  I'm writing this review to give you a heads up...      0\n",
            "4  All the food is great here. But the best thing...      1\n",
            "                                                text  label\n",
            "0  Contrary to other reviews, I have zero complai...      1\n",
            "1  Last summer I had an appointment to get new ti...      0\n",
            "2  Friendly staff, same starbucks fair you get an...      1\n",
            "3  The food is good. Unfortunately the service is...      0\n",
            "4  Even when we didn't have a car Filene's Baseme...      1\n"
          ]
        }
      ]
    },
    {
      "cell_type": "code",
      "source": [
        "#print the train data columns\n",
        "print(train_df.columns)"
      ],
      "metadata": {
        "colab": {
          "base_uri": "https://localhost:8080/"
        },
        "id": "8msnjMJRL50q",
        "outputId": "91662917-07de-41d7-ed32-54c2ebf9aee1"
      },
      "execution_count": 45,
      "outputs": [
        {
          "output_type": "stream",
          "name": "stdout",
          "text": [
            "Index(['text', 'label'], dtype='object')\n"
          ]
        }
      ]
    },
    {
      "cell_type": "code",
      "source": [
        "# Check for null values in the train and test DataFrames\n",
        "train_nulls = train_df.isnull().sum()\n",
        "test_nulls = test_df.isnull().sum()\n",
        "\n",
        "print(\"Null values in train data:\")\n",
        "print(train_nulls)\n",
        "\n",
        "print(\"\\nNull values in test data:\")\n",
        "print(test_nulls)"
      ],
      "metadata": {
        "colab": {
          "base_uri": "https://localhost:8080/"
        },
        "id": "WyZ3V2iXMYQS",
        "outputId": "126e21d2-9764-48e0-87b4-b9ba7c5dbbbd"
      },
      "execution_count": 46,
      "outputs": [
        {
          "output_type": "stream",
          "name": "stdout",
          "text": [
            "Null values in train data:\n",
            "text     0\n",
            "label    0\n",
            "dtype: int64\n",
            "\n",
            "Null values in test data:\n",
            "text     0\n",
            "label    0\n",
            "dtype: int64\n"
          ]
        }
      ]
    },
    {
      "cell_type": "code",
      "source": [
        "# Check for duplicates in the train and test DataFrames\n",
        "train_duplicates = train_df.duplicated().sum()\n",
        "test_duplicates = test_df.duplicated().sum()\n",
        "\n",
        "print(f\"\\nNumber of duplicate rows in train data: {train_duplicates}\")\n",
        "print(f\"Number of duplicate rows in test data: {test_duplicates}\")"
      ],
      "metadata": {
        "colab": {
          "base_uri": "https://localhost:8080/"
        },
        "id": "F1ngfC0PMbub",
        "outputId": "791b47fc-4ef1-4b6b-8310-5bc60e0d62f5"
      },
      "execution_count": 47,
      "outputs": [
        {
          "output_type": "stream",
          "name": "stdout",
          "text": [
            "\n",
            "Number of duplicate rows in train data: 0\n",
            "Number of duplicate rows in test data: 0\n"
          ]
        }
      ]
    },
    {
      "cell_type": "code",
      "source": [
        "# Step 3: Text Preprocessing\n",
        "import re\n",
        "\n",
        "def clean_text(text):\n",
        "    # Convert text to lowercase\n",
        "    text = text.lower()\n",
        "    # Remove unwanted characters (special characters, numbers, extra spaces)\n",
        "    text = re.sub(r'[^a-z\\s]', '', text)\n",
        "    # Remove extra whitespaces\n",
        "    text = re.sub(r'\\s+', ' ', text).strip()\n",
        "    return text\n"
      ],
      "metadata": {
        "id": "Ojo_xlYWWG6h"
      },
      "execution_count": 48,
      "outputs": []
    },
    {
      "cell_type": "code",
      "source": [
        "# Apply text cleaning function to the datasets\n",
        "train_df['text'] = train_df['text'].apply(clean_text)\n",
        "test_df['text'] = test_df['text'].apply(clean_text)\n",
        "\n",
        "# Step 4: Check and Balance the Dataset (Optional)\n",
        "# Check label distribution\n",
        "print(\"Label distribution in train data after cleaning:\")\n",
        "print(train_df['label'].value_counts())\n",
        "\n",
        "print(\"\\nLabel distribution in test data after cleaning:\")\n",
        "print(test_df['label'].value_counts())"
      ],
      "metadata": {
        "colab": {
          "base_uri": "https://localhost:8080/"
        },
        "id": "9qqP3ecTWMsB",
        "outputId": "03e5c83b-4e10-46b1-802d-7fa5f608c211"
      },
      "execution_count": 49,
      "outputs": [
        {
          "output_type": "stream",
          "name": "stdout",
          "text": [
            "Label distribution in train data after cleaning:\n",
            "label\n",
            "0    280000\n",
            "1    280000\n",
            "Name: count, dtype: int64\n",
            "\n",
            "Label distribution in test data after cleaning:\n",
            "label\n",
            "1    19000\n",
            "0    19000\n",
            "Name: count, dtype: int64\n"
          ]
        }
      ]
    },
    {
      "cell_type": "code",
      "source": [
        "# Summary statistics for text length\n",
        "train_df['text_length'] = train_df['text'].apply(len)\n",
        "print(train_df['text_length'].describe())"
      ],
      "metadata": {
        "colab": {
          "base_uri": "https://localhost:8080/"
        },
        "id": "LTTF3B8UNLii",
        "outputId": "eb62dd87-2ebb-4c56-f746-af93ffcf8151"
      },
      "execution_count": 50,
      "outputs": [
        {
          "output_type": "stream",
          "name": "stdout",
          "text": [
            "count    560000.000000\n",
            "mean        691.749195\n",
            "std         637.064701\n",
            "min           0.000000\n",
            "25%         266.000000\n",
            "50%         503.000000\n",
            "75%         901.000000\n",
            "max        4914.000000\n",
            "Name: text_length, dtype: float64\n"
          ]
        }
      ]
    },
    {
      "cell_type": "code",
      "source": [
        "# Distribution of labels in the training and test datasets\n",
        "print(\"Label distribution in train data:\")\n",
        "print(train_df['label'].value_counts())"
      ],
      "metadata": {
        "colab": {
          "base_uri": "https://localhost:8080/"
        },
        "id": "spaP3KChNUOz",
        "outputId": "ed8badb3-e270-4f8e-9877-093e6d77bf87"
      },
      "execution_count": 51,
      "outputs": [
        {
          "output_type": "stream",
          "name": "stdout",
          "text": [
            "Label distribution in train data:\n",
            "label\n",
            "0    280000\n",
            "1    280000\n",
            "Name: count, dtype: int64\n"
          ]
        }
      ]
    },
    {
      "cell_type": "code",
      "source": [
        "print(\"\\nLabel distribution in test data:\")\n",
        "print(test_df['label'].value_counts())"
      ],
      "metadata": {
        "colab": {
          "base_uri": "https://localhost:8080/"
        },
        "id": "96cWrfBlNYFa",
        "outputId": "fa1f8a6e-918f-408b-e3d4-3fdeb03c3d61"
      },
      "execution_count": 52,
      "outputs": [
        {
          "output_type": "stream",
          "name": "stdout",
          "text": [
            "\n",
            "Label distribution in test data:\n",
            "label\n",
            "1    19000\n",
            "0    19000\n",
            "Name: count, dtype: int64\n"
          ]
        }
      ]
    },
    {
      "cell_type": "code",
      "source": [
        "# Histogram of text lengths\n",
        "plt.figure(figsize=(10, 6))\n",
        "sns.histplot(train_df['text_length'], bins=50, kde=True)\n",
        "plt.title('Distribution of Review Text Lengths')\n",
        "plt.xlabel('Text Length')\n",
        "plt.ylabel('Frequency')\n",
        "plt.show()"
      ],
      "metadata": {
        "colab": {
          "base_uri": "https://localhost:8080/",
          "height": 564
        },
        "id": "9frt4xVnNbSp",
        "outputId": "e9827e09-df2a-4e6f-bf34-0c3822e99468"
      },
      "execution_count": 53,
      "outputs": [
        {
          "output_type": "display_data",
          "data": {
            "text/plain": [
              "<Figure size 1000x600 with 1 Axes>"
            ],
            "image/png": "[encoded data removed]"
          },
          "metadata": {}
        }
      ]
    },
    {
      "cell_type": "code",
      "source": [
        "# Correlation between text length and label\n",
        "correlation = train_df[['text_length', 'label']].corr()\n",
        "print(\"Correlation between text length and sentiment label:\")\n",
        "print(correlation)"
      ],
      "metadata": {
        "colab": {
          "base_uri": "https://localhost:8080/"
        },
        "id": "pWC9Dn4lNpsP",
        "outputId": "917e4f09-b036-4f12-837a-5032ffce0fd5"
      },
      "execution_count": 54,
      "outputs": [
        {
          "output_type": "stream",
          "name": "stdout",
          "text": [
            "Correlation between text length and sentiment label:\n",
            "             text_length     label\n",
            "text_length     1.000000 -0.140706\n",
            "label          -0.140706  1.000000\n"
          ]
        }
      ]
    },
    {
      "cell_type": "code",
      "source": [
        "# Bar plot for label distribution\n",
        "plt.figure(figsize=(6, 4))\n",
        "sns.countplot(x='label', data=train_df)\n",
        "plt.title('Distribution of Sentiment Labels')\n",
        "plt.xlabel('Sentiment Label')\n",
        "plt.ylabel('Count')\n",
        "plt.show()"
      ],
      "metadata": {
        "colab": {
          "base_uri": "https://localhost:8080/",
          "height": 410
        },
        "id": "s4skhMo7N-cT",
        "outputId": "2cf6f653-c1e8-4fb8-c94d-ac79ab15959d"
      },
      "execution_count": 55,
      "outputs": [
        {
          "output_type": "display_data",
          "data": {
            "text/plain": [
              "<Figure size 600x400 with 1 Axes>"
            ],
            "image/png": "[encoded data removed]"
          },
          "metadata": {}
        }
      ]
    },
    {
      "cell_type": "code",
      "source": [
        "# Box plot for text length by label\n",
        "plt.figure(figsize=(10, 6))\n",
        "sns.boxplot(x='label', y='text_length', data=train_df)\n",
        "plt.title('Text Length Distribution by Sentiment Label')\n",
        "plt.xlabel('Sentiment Label')\n",
        "plt.ylabel('Text Length')\n",
        "plt.show()"
      ],
      "metadata": {
        "colab": {
          "base_uri": "https://localhost:8080/",
          "height": 564
        },
        "id": "SfnEtRpqOCUe",
        "outputId": "2c224ffa-833c-460f-8b9f-5d7cf91a9937"
      },
      "execution_count": 56,
      "outputs": [
        {
          "output_type": "display_data",
          "data": {
            "text/plain": [
              "<Figure size 1000x600 with 1 Axes>"
            ],
            "image/png": "[encoded data removed]"
          },
          "metadata": {}
        }
      ]
    },
    {
      "cell_type": "code",
      "source": [
        "# Limit the train to the first 5,000 rows\n",
        "train_df = train_df[:5000]"
      ],
      "metadata": {
        "id": "0mlPo_fIOGbQ"
      },
      "execution_count": 57,
      "outputs": []
    },
    {
      "cell_type": "code",
      "source": [
        "# Check the column names and first few rows\n",
        "print(train_df.columns)\n",
        "\n",
        "# Display the first few rows of the DataFrame\n",
        "print(train_df.head())"
      ],
      "metadata": {
        "colab": {
          "base_uri": "https://localhost:8080/"
        },
        "id": "IP3c_QYGPJ4b",
        "outputId": "17732186-3652-4d33-ae64-5d8caf6684c3"
      },
      "execution_count": 58,
      "outputs": [
        {
          "output_type": "stream",
          "name": "stdout",
          "text": [
            "Index(['text', 'label', 'text_length'], dtype='object')\n",
            "                                                text  label  text_length\n",
            "0  unfortunately the frustration of being dr gold...      0          609\n",
            "1  been going to dr goldberg for over years i thi...      1          478\n",
            "2  i dont know what dr goldberg was like before m...      0         1110\n",
            "3  im writing this review to give you a heads up ...      0         1009\n",
            "4  all the food is great here but the best thing ...      1          383\n"
          ]
        }
      ]
    },
    {
      "cell_type": "code",
      "source": [
        "# Drop the 'text_length' column and keep only 'text' and 'label'\n",
        "train_df = train_df[['text', 'label']]\n",
        "\n",
        "# Verify the new shape and columns\n",
        "print(f\"Train Data Shape after removing 'text_length': {train_df.shape}\")\n",
        "print(train_df.head())\n"
      ],
      "metadata": {
        "colab": {
          "base_uri": "https://localhost:8080/"
        },
        "id": "-12Df6gePXQ5",
        "outputId": "b5a0ce73-e7a9-44dc-c7e6-95210be70a32"
      },
      "execution_count": 59,
      "outputs": [
        {
          "output_type": "stream",
          "name": "stdout",
          "text": [
            "Train Data Shape after removing 'text_length': (5000, 2)\n",
            "                                                text  label\n",
            "0  unfortunately the frustration of being dr gold...      0\n",
            "1  been going to dr goldberg for over years i thi...      1\n",
            "2  i dont know what dr goldberg was like before m...      0\n",
            "3  im writing this review to give you a heads up ...      0\n",
            "4  all the food is great here but the best thing ...      1\n"
          ]
        }
      ]
    },
    {
      "cell_type": "code",
      "source": [
        "# Limit the test DataFrame to the first 1000 rows\n",
        "test_df = test_df[:1000]\n",
        "\n",
        "# Verify the new shape of the test DataFrame\n",
        "print(f\"Test Data Shape after limiting: {test_df.shape}\")\n",
        "print(test_df.head())\n"
      ],
      "metadata": {
        "colab": {
          "base_uri": "https://localhost:8080/"
        },
        "id": "z5rb71OLPij0",
        "outputId": "df01e477-8b82-4845-994b-3025c2fb19ba"
      },
      "execution_count": 60,
      "outputs": [
        {
          "output_type": "stream",
          "name": "stdout",
          "text": [
            "Test Data Shape after limiting: (1000, 2)\n",
            "                                                text  label\n",
            "0  contrary to other reviews i have zero complain...      1\n",
            "1  last summer i had an appointment to get new ti...      0\n",
            "2  friendly staff same starbucks fair you get any...      1\n",
            "3  the food is good unfortunately the service is ...      0\n",
            "4  even when we didnt have a car filenes basement...      1\n"
          ]
        }
      ]
    },
    {
      "cell_type": "code",
      "source": [
        "# Load the DistilBERT tokenizer\n",
        "tokenizer = DistilBertTokenizer.from_pretrained('distilbert-base-uncased')"
      ],
      "metadata": {
        "id": "6Rb1UA-DQEqE"
      },
      "execution_count": 61,
      "outputs": []
    },
    {
      "cell_type": "code",
      "source": [
        "# Tokenize the text data\n",
        "def tokenize_function(texts):\n",
        "    return tokenizer(\n",
        "        texts.tolist(),\n",
        "        padding='max_length',  # Pad to max length\n",
        "        truncation=True,       # Truncate to max length\n",
        "        max_length=128,        # Max length for BERT\n",
        "        return_tensors='tf'    # Return as TensorFlow tensors\n",
        "    )"
      ],
      "metadata": {
        "id": "-yEw0CL3QKPo"
      },
      "execution_count": 62,
      "outputs": []
    },
    {
      "cell_type": "code",
      "source": [
        "# Load pre-trained DistilBERT model for sequence classification\n",
        "model = TFDistilBertForSequenceClassification.from_pretrained('distilbert-base-uncased', num_labels =2)\n",
        "#Freeze the layer\n",
        "for layer in model.layers[-5:]:\n",
        "    layer.trainable = False\n",
        "\n",
        "\n",
        "# Display the model summary\n",
        "model.summary()"
      ],
      "metadata": {
        "colab": {
          "base_uri": "https://localhost:8080/"
        },
        "id": "AkP55QWvQ323",
        "outputId": "659b0bfb-c4e0-46d3-c301-caab20f069b2"
      },
      "execution_count": 63,
      "outputs": [
        {
          "output_type": "stream",
          "name": "stderr",
          "text": [
            "Some weights of the PyTorch model were not used when initializing the TF 2.0 model TFDistilBertForSequenceClassification: ['vocab_transform.weight', 'vocab_projector.bias', 'vocab_layer_norm.weight', 'vocab_layer_norm.bias', 'vocab_transform.bias']\n",
            "- This IS expected if you are initializing TFDistilBertForSequenceClassification from a PyTorch model trained on another task or with another architecture (e.g. initializing a TFBertForSequenceClassification model from a BertForPreTraining model).\n",
            "- This IS NOT expected if you are initializing TFDistilBertForSequenceClassification from a PyTorch model that you expect to be exactly identical (e.g. initializing a TFBertForSequenceClassification model from a BertForSequenceClassification model).\n",
            "Some weights or buffers of the TF 2.0 model TFDistilBertForSequenceClassification were not initialized from the PyTorch model and are newly initialized: ['pre_classifier.weight', 'pre_classifier.bias', 'classifier.weight', 'classifier.bias']\n",
            "You should probably TRAIN this model on a down-stream task to be able to use it for predictions and inference.\n"
          ]
        },
        {
          "output_type": "stream",
          "name": "stdout",
          "text": [
            "Model: \"tf_distil_bert_for_sequence_classification_1\"\n",
            "_________________________________________________________________\n",
            " Layer (type)                Output Shape              Param #   \n",
            "=================================================================\n",
            " distilbert (TFDistilBertMa  multiple                  66362880  \n",
            " inLayer)                                                        \n",
            "                                                                 \n",
            " pre_classifier (Dense)      multiple                  590592    \n",
            "                                                                 \n",
            " classifier (Dense)          multiple                  1538      \n",
            "                                                                 \n",
            " dropout_39 (Dropout)        multiple                  0 (unused)\n",
            "                                                                 \n",
            "=================================================================\n",
            "Total params: 66955010 (255.41 MB)\n",
            "Trainable params: 0 (0.00 Byte)\n",
            "Non-trainable params: 66955010 (255.41 MB)\n",
            "_________________________________________________________________\n"
          ]
        }
      ]
    },
    {
      "cell_type": "code",
      "source": [
        "import tensorflow as tf\n",
        "\n",
        "def create_tf_dataset(encodings, labels):\n",
        "    dataset = tf.data.Dataset.from_tensor_slices((dict(encodings), labels))\n",
        "    return dataset.map(lambda x, y: (x, tf.reshape(y, (-1,))))\n",
        "\n",
        "# Tokenize the train and test data\n",
        "train_encodings = tokenize_function(train_df['text'])\n",
        "test_encodings = tokenize_function(test_df['text'])\n",
        "\n",
        "# Convert labels to TensorFlow tensors\n",
        "train_labels = tf.convert_to_tensor(train_df['label'].values, dtype=tf.int64)\n",
        "test_labels = tf.convert_to_tensor(test_df['label'].values, dtype=tf.int64)\n",
        "\n",
        "# Create TensorFlow datasets\n",
        "train_dataset = create_tf_dataset(train_encodings, train_labels)\n",
        "test_dataset = create_tf_dataset(test_encodings, test_labels)\n"
      ],
      "metadata": {
        "id": "FQiRQd3eTZ6o"
      },
      "execution_count": 64,
      "outputs": []
    },
    {
      "cell_type": "code",
      "source": [
        "\n",
        "# Compile the model\n",
        "model.compile(\n",
        "    optimizer=\"AdamW\",\n",
        "    loss='sparse_categorical_crossentropy',  # Suitable for integer-encoded labels\n",
        "    metrics=['accuracy']\n",
        ")\n"
      ],
      "metadata": {
        "id": "C63ov2FnTd0t"
      },
      "execution_count": 65,
      "outputs": []
    },
    {
      "cell_type": "code",
      "source": [
        "# Define training parameters\n",
        "batch_size = 64\n",
        "epochs = 10\n",
        "\n",
        "\n",
        "# Train the model\n",
        "history = model.fit(\n",
        "    train_dataset.shuffle(10000).batch(batch_size),\n",
        "    validation_data=test_dataset.batch(batch_size),\n",
        "    epochs=epochs,\n",
        ")\n",
        "\n",
        "# Evaluate the model\n",
        "loss, accuracy = model.evaluate(test_dataset.batch(batch_size))\n",
        "print(f\"Test Loss: {loss:.4f}\")\n",
        "print(f\"Test Accuracy: {accuracy * 100:.2f}%\")"
      ],
      "metadata": {
        "colab": {
          "base_uri": "https://localhost:8080/"
        },
        "id": "e3JZrtLQUOHC",
        "outputId": "db0c0996-73cf-48af-c2a7-cf6d2a5ff8da"
      },
      "execution_count": 66,
      "outputs": [
        {
          "output_type": "stream",
          "name": "stdout",
          "text": [
            "Epoch 1/10\n",
            "79/79 [==============================] - 38s 387ms/step - loss: 3.8403 - accuracy: 0.4922 - val_loss: 3.8462 - val_accuracy: 0.5070\n",
            "Epoch 2/10\n",
            "79/79 [==============================] - 28s 355ms/step - loss: 3.7589 - accuracy: 0.5020 - val_loss: 3.8462 - val_accuracy: 0.5070\n",
            "Epoch 3/10\n",
            "79/79 [==============================] - 29s 360ms/step - loss: 3.7189 - accuracy: 0.5124 - val_loss: 3.8462 - val_accuracy: 0.5070\n",
            "Epoch 4/10\n",
            "79/79 [==============================] - 28s 345ms/step - loss: 3.7409 - accuracy: 0.5008 - val_loss: 3.8462 - val_accuracy: 0.5070\n",
            "Epoch 5/10\n",
            "79/79 [==============================] - 29s 360ms/step - loss: 3.7866 - accuracy: 0.5032 - val_loss: 3.8462 - val_accuracy: 0.5070\n",
            "Epoch 6/10\n",
            "79/79 [==============================] - 28s 351ms/step - loss: 3.8839 - accuracy: 0.4906 - val_loss: 3.8462 - val_accuracy: 0.5070\n",
            "Epoch 7/10\n",
            "79/79 [==============================] - 28s 347ms/step - loss: 3.7617 - accuracy: 0.5002 - val_loss: 3.8462 - val_accuracy: 0.5070\n",
            "Epoch 8/10\n",
            "79/79 [==============================] - 29s 362ms/step - loss: 3.7526 - accuracy: 0.5002 - val_loss: 3.8462 - val_accuracy: 0.5070\n",
            "Epoch 9/10\n",
            "79/79 [==============================] - 28s 350ms/step - loss: 3.8108 - accuracy: 0.5014 - val_loss: 3.8462 - val_accuracy: 0.5070\n",
            "Epoch 10/10\n",
            "79/79 [==============================] - 28s 359ms/step - loss: 3.8468 - accuracy: 0.4964 - val_loss: 3.8462 - val_accuracy: 0.5070\n",
            "16/16 [==============================] - 4s 268ms/step - loss: 3.8462 - accuracy: 0.5070\n",
            "Test Loss: 3.8462\n",
            "Test Accuracy: 50.70%\n"
          ]
        }
      ]
    },
    {
      "cell_type": "code",
      "source": [
        "# Extract metrics from the history object\n",
        "history_dict = history.history\n",
        "epochs_range = range(1, len(history_dict['loss']) + 1)\n",
        "\n",
        "# Plot loss\n",
        "plt.figure(figsize=(12, 6))\n",
        "plt.subplot(1, 2, 1)\n",
        "plt.plot(epochs_range, history_dict['loss'], label='Training Loss')\n",
        "plt.plot(epochs_range, history_dict['val_loss'], label='Validation Loss')\n",
        "plt.title('Training and Validation Loss')\n",
        "plt.xlabel('Epochs')\n",
        "plt.ylabel('Loss')\n",
        "plt.legend()\n",
        "\n",
        "# Plot accuracy\n",
        "plt.subplot(1, 2, 2)\n",
        "plt.plot(epochs_range, history_dict['accuracy'], label='Training Accuracy')\n",
        "plt.plot(epochs_range, history_dict['val_accuracy'], label='Validation Accuracy')\n",
        "plt.title('Training and Validation Accuracy')\n",
        "plt.xlabel('Epochs')\n",
        "plt.ylabel('Accuracy')\n",
        "plt.legend()\n",
        "\n",
        "plt.tight_layout()\n",
        "plt.show()"
      ],
      "metadata": {
        "colab": {
          "base_uri": "https://localhost:8080/",
          "height": 607
        },
        "id": "UmUNYpglsCxh",
        "outputId": "dad0be1f-2448-4568-a876-49a0578af338"
      },
      "execution_count": 67,
      "outputs": [
        {
          "output_type": "display_data",
          "data": {
            "text/plain": [
              "<Figure size 1200x600 with 2 Axes>"
            ],
            "image/png": "[encoded data removed]"
          },
          "metadata": {}
        }
      ]
    },
    {
      "cell_type": "code",
      "source": [
        "# Example text for prediction\n",
        "texts_to_predict = [\n",
        "    \"The food was great and the service was excellent!\",\n",
        "    \"I did not enjoy the meal. The service was slow.\",\n",
        "]\n",
        "\n",
        "# Tokenize the new texts\n",
        "pred_encodings = tokenize_function(pd.Series(texts_to_predict))\n",
        "\n",
        "# Create a TensorFlow dataset for prediction\n",
        "pred_dataset = tf.data.Dataset.from_tensor_slices(dict(pred_encodings))\n",
        "pred_dataset = pred_dataset.batch(1)  # Batch size of 1 for predictions\n"
      ],
      "metadata": {
        "id": "PR0WJNw6tNd4"
      },
      "execution_count": 68,
      "outputs": []
    },
    {
      "cell_type": "code",
      "source": [
        "# Make predictions\n",
        "predictions = model.predict(pred_dataset)\n",
        "\n",
        "# The model outputs logits; apply softmax to get probabilities\n",
        "predicted_probs = tf.nn.softmax(predictions.logits, axis=-1)\n"
      ],
      "metadata": {
        "colab": {
          "base_uri": "https://localhost:8080/"
        },
        "id": "WWyQaP68tOsn",
        "outputId": "c6160e8b-a317-400c-b2cf-52ce497ae275"
      },
      "execution_count": 69,
      "outputs": [
        {
          "output_type": "stream",
          "name": "stdout",
          "text": [
            "2/2 [==============================] - 2s 24ms/step\n"
          ]
        }
      ]
    },
    {
      "cell_type": "code",
      "source": [
        "\n",
        "# Convert predictions to class labels\n",
        "predicted_labels = np.argmax(predicted_probs, axis=-1)\n",
        "\n",
        "# Print the predictions\n",
        "for text, label in zip(texts_to_predict, predicted_labels):\n",
        "    print(f\"Text: {text}\")\n",
        "    print(f\"Predicted label: {label}\")\n",
        "    print(\"---\")"
      ],
      "metadata": {
        "colab": {
          "base_uri": "https://localhost:8080/"
        },
        "id": "dGoTFf-UtSnv",
        "outputId": "5f78c92f-771a-4cad-ca7f-be4ba1763d86"
      },
      "execution_count": 70,
      "outputs": [
        {
          "output_type": "stream",
          "name": "stdout",
          "text": [
            "Text: The food was great and the service was excellent!\n",
            "Predicted label: 1\n",
            "---\n",
            "Text: I did not enjoy the meal. The service was slow.\n",
            "Predicted label: 1\n",
            "---\n"
          ]
        }
      ]
    },
    {
      "cell_type": "markdown",
      "source": [
        "DEPLOYMENT"
      ],
      "metadata": {
        "id": "sQYDUP99Gxkc"
      }
    },
    {
      "cell_type": "code",
      "source": [
        "import ipywidgets as widgets\n",
        "from IPython.display import display, clear_output"
      ],
      "metadata": {
        "id": "F4JY_ufJEqb2"
      },
      "execution_count": 71,
      "outputs": []
    },
    {
      "cell_type": "code",
      "source": [
        "\n",
        "# Define function that predicts the class label\n",
        "def predict(text):\n",
        "    \"\"\"\n",
        "    Function that predicts the class label for a text\n",
        "\n",
        "    Args:\n",
        "    text: a movie review that needs to be classified\n",
        "\n",
        "    Returns:\n",
        "    predicted_class and predicted probability\n",
        "    \"\"\"\n",
        "    # Tokenize input text\n",
        "    inputs = tokenizer(text, return_tensors=\"tf\", truncation=True, padding=True, max_length=512)\n",
        "\n",
        "    # Model prediction\n",
        "    prediction = model(inputs)\n",
        "    logits = prediction['logits'].numpy()\n",
        "\n",
        "    # Convert logits to probabilities\n",
        "    probabilities = tf.nn.softmax(logits, axis=1).numpy()[0]\n",
        "\n",
        "    # Get the predicted class and its probability\n",
        "    predicted_class = np.argmax(probabilities)\n",
        "    predicted_probability = probabilities[predicted_class]\n",
        "\n",
        "    return predicted_class, predicted_probability\n",
        "\n",
        "# Define a function `on_button_click` that is called when a button is pressed.\n",
        "def on_button_click(button):\n",
        "    # Clear the previous output from the display.\n",
        "    clear_output(wait=True)\n",
        "\n",
        "    # Call the `predict` function\n",
        "    prediction, probability = predict(text_area.value)\n",
        "\n",
        "    # If the prediction is 1, then print that the input text is predicted as positive.\n",
        "    if prediction == 1:\n",
        "        print(f\"Prediction: Positive with probability {probability:.4f}%\")\n",
        "    else:\n",
        "        print(f\"Prediction: Negative with probability {probability:.4f}%\")\n",
        "\n",
        "    # Call the `display_ui` function to display the text area and button again after showing the prediction.\n",
        "    display_ui()\n",
        "\n",
        "# Define a function `display_ui` that displays the `text_area` and `button` widgets.\n",
        "def display_ui():\n",
        "    display(text_area, button)\n",
        "\n",
        "# Create a `text_area` widget using the `widgets.Textarea` method. This widget allows the user to input text.\n",
        "text_area = widgets.Textarea(\n",
        "    value='',  # Initial value of the text area is empty.\n",
        "    placeholder='Type something',  # Placeholder text to display when the text area is empty.\n",
        "    description='Input Text:',  # Label for the text area.\n",
        "    disabled=False,  # The text area is enabled (i.e., it's editable).\n",
        "    layout=widgets.Layout(height='100px', width='80%')  # Design specifications for the text area.\n",
        ")\n",
        "\n",
        "# Create a button widget using the `widgets.Button` method.\n",
        "button = widgets.Button(description=\"Predict\")\n",
        "\n",
        "# Assign the `on_button_click` function to be called when the button is clicked.\n",
        "button.on_click(on_button_click)\n",
        "\n",
        "# Initially display the user interface\n",
        "display_ui()"
      ],
      "metadata": {
        "colab": {
          "base_uri": "https://localhost:8080/",
          "height": 170,
          "referenced_widgets": [
            "e0ce5b077d1645879e9c4286cdb4ba34",
            "96a208dd088e4f38a6b17570c07994b8",
            "de674dddce604fe98a6fa33a9593e020",
            "b3351754992b4798a54190a48de17258",
            "febb4f2565314690aa4d1b7019a493a1",
            "f84052c090a74ec3bc592526b7ed0453"
          ]
        },
        "id": "3VUh4QIHE93b",
        "outputId": "ba3709de-5401-4258-c3df-0f89d19fbdc7"
      },
      "execution_count": 72,
      "outputs": [
        {
          "output_type": "stream",
          "name": "stdout",
          "text": [
            "Prediction: Positive with probability 0.5066%\n"
          ]
        },
        {
          "output_type": "display_data",
          "data": {
            "text/plain": [
              "Textarea(value='happy', description='Input Text:', layout=Layout(height='100px', width='80%'), placeholder='Ty…"
            ],
            "application/vnd.jupyter.widget-view+json": {
              "version_major": 2,
              "version_minor": 0,
              "model_id": "e0ce5b077d1645879e9c4286cdb4ba34"
            }
          },
          "metadata": {}
        },
        {
          "output_type": "display_data",
          "data": {
            "text/plain": [
              "Button(description='Predict', style=ButtonStyle())"
            ],
            "application/vnd.jupyter.widget-view+json": {
              "version_major": 2,
              "version_minor": 0,
              "model_id": "b3351754992b4798a54190a48de17258"
            }
          },
          "metadata": {}
        }
      ]
    }
  ]
}