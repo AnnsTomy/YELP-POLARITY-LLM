{
  "nbformat": 4,
  "nbformat_minor": 0,
  "metadata": {
    "colab": {
      "provenance": [],
      "gpuType": "T4"
    },
    "kernelspec": {
      "name": "python3",
      "display_name": "Python 3"
    },
    "language_info": {
      "name": "python"
    },
    "accelerator": "GPU",
    "widgets": {
      "application/vnd.jupyter.widget-state+json": {
        "f29f6b3d3ced47fdbbfde3e6a16a5fe1": {
          "model_module": "@jupyter-widgets/controls",
          "model_name": "TextareaModel",
          "model_module_version": "1.5.0",
          "state": {
            "_dom_classes": [],
            "_model_module": "@jupyter-widgets/controls",
            "_model_module_version": "1.5.0",
            "_model_name": "TextareaModel",
            "_view_count": null,
            "_view_module": "@jupyter-widgets/controls",
            "_view_module_version": "1.5.0",
            "_view_name": "TextareaView",
            "continuous_update": true,
            "description": "Input Text:",
            "description_tooltip": null,
            "disabled": false,
            "layout": "IPY_MODEL_e9f9ea41fd5047e69ea0a745ccd9a804",
            "placeholder": "Type something",
            "rows": null,
            "style": "IPY_MODEL_46d4dcefdc2544998f6c50914c6036b4",
            "value": ""
          }
        },
        "e9f9ea41fd5047e69ea0a745ccd9a804": {
          "model_module": "@jupyter-widgets/base",
          "model_name": "LayoutModel",
          "model_module_version": "1.2.0",
          "state": {
            "_model_module": "@jupyter-widgets/base",
            "_model_module_version": "1.2.0",
            "_model_name": "LayoutModel",
            "_view_count": null,
            "_view_module": "@jupyter-widgets/base",
            "_view_module_version": "1.2.0",
            "_view_name": "LayoutView",
            "align_content": null,
            "align_items": null,
            "align_self": null,
            "border": null,
            "bottom": null,
            "display": null,
            "flex": null,
            "flex_flow": null,
            "grid_area": null,
            "grid_auto_columns": null,
            "grid_auto_flow": null,
            "grid_auto_rows": null,
            "grid_column": null,
            "grid_gap": null,
            "grid_row": null,
            "grid_template_areas": null,
            "grid_template_columns": null,
            "grid_template_rows": null,
            "height": "100px",
            "justify_content": null,
            "justify_items": null,
            "left": null,
            "margin": null,
            "max_height": null,
            "max_width": null,
            "min_height": null,
            "min_width": null,
            "object_fit": null,
            "object_position": null,
            "order": null,
            "overflow": null,
            "overflow_x": null,
            "overflow_y": null,
            "padding": null,
            "right": null,
            "top": null,
            "visibility": null,
            "width": "80%"
          }
        },
        "46d4dcefdc2544998f6c50914c6036b4": {
          "model_module": "@jupyter-widgets/controls",
          "model_name": "DescriptionStyleModel",
          "model_module_version": "1.5.0",
          "state": {
            "_model_module": "@jupyter-widgets/controls",
            "_model_module_version": "1.5.0",
            "_model_name": "DescriptionStyleModel",
            "_view_count": null,
            "_view_module": "@jupyter-widgets/base",
            "_view_module_version": "1.2.0",
            "_view_name": "StyleView",
            "description_width": ""
          }
        },
        "1374d00ac2f6481d8122ab392e25467d": {
          "model_module": "@jupyter-widgets/controls",
          "model_name": "ButtonModel",
          "model_module_version": "1.5.0",
          "state": {
            "_dom_classes": [],
            "_model_module": "@jupyter-widgets/controls",
            "_model_module_version": "1.5.0",
            "_model_name": "ButtonModel",
            "_view_count": null,
            "_view_module": "@jupyter-widgets/controls",
            "_view_module_version": "1.5.0",
            "_view_name": "ButtonView",
            "button_style": "",
            "description": "Predict",
            "disabled": false,
            "icon": "",
            "layout": "IPY_MODEL_2480205d9a0346a68b8629945d550b67",
            "style": "IPY_MODEL_96d24de7f00a4043bf3f2cff7a4b7aff",
            "tooltip": ""
          }
        },
        "2480205d9a0346a68b8629945d550b67": {
          "model_module": "@jupyter-widgets/base",
          "model_name": "LayoutModel",
          "model_module_version": "1.2.0",
          "state": {
            "_model_module": "@jupyter-widgets/base",
            "_model_module_version": "1.2.0",
            "_model_name": "LayoutModel",
            "_view_count": null,
            "_view_module": "@jupyter-widgets/base",
            "_view_module_version": "1.2.0",
            "_view_name": "LayoutView",
            "align_content": null,
            "align_items": null,
            "align_self": null,
            "border": null,
            "bottom": null,
            "display": null,
            "flex": null,
            "flex_flow": null,
            "grid_area": null,
            "grid_auto_columns": null,
            "grid_auto_flow": null,
            "grid_auto_rows": null,
            "grid_column": null,
            "grid_gap": null,
            "grid_row": null,
            "grid_template_areas": null,
            "grid_template_columns": null,
            "grid_template_rows": null,
            "height": null,
            "justify_content": null,
            "justify_items": null,
            "left": null,
            "margin": null,
            "max_height": null,
            "max_width": null,
            "min_height": null,
            "min_width": null,
            "object_fit": null,
            "object_position": null,
            "order": null,
            "overflow": null,
            "overflow_x": null,
            "overflow_y": null,
            "padding": null,
            "right": null,
            "top": null,
            "visibility": null,
            "width": null
          }
        },
        "96d24de7f00a4043bf3f2cff7a4b7aff": {
          "model_module": "@jupyter-widgets/controls",
          "model_name": "ButtonStyleModel",
          "model_module_version": "1.5.0",
          "state": {
            "_model_module": "@jupyter-widgets/controls",
            "_model_module_version": "1.5.0",
            "_model_name": "ButtonStyleModel",
            "_view_count": null,
            "_view_module": "@jupyter-widgets/base",
            "_view_module_version": "1.2.0",
            "_view_name": "StyleView",
            "button_color": null,
            "font_weight": ""
          }
        }
      }
    }
  },
  "cells": [
    {
      "cell_type": "code",
      "source": [
        "# Install required libraries if not already installed\n",
        "!pip install transformers tensorflow\n"
      ],
      "metadata": {
        "colab": {
          "base_uri": "https://localhost:8080/"
        },
        "id": "kLjhiXzIPtGR",
        "outputId": "c5a11904-0515-4d68-e3da-914e98756f49"
      },
      "execution_count": 87,
      "outputs": [
        {
          "output_type": "stream",
          "name": "stdout",
          "text": [
            "Requirement already satisfied: transformers in /usr/local/lib/python3.10/dist-packages (4.42.4)\n",
            "Requirement already satisfied: tensorflow in /usr/local/lib/python3.10/dist-packages (2.17.0)\n",
            "Requirement already satisfied: filelock in /usr/local/lib/python3.10/dist-packages (from transformers) (3.15.4)\n",
            "Requirement already satisfied: huggingface-hub<1.0,>=0.23.2 in /usr/local/lib/python3.10/dist-packages (from transformers) (0.23.5)\n",
            "Requirement already satisfied: numpy<2.0,>=1.17 in /usr/local/lib/python3.10/dist-packages (from transformers) (1.26.4)\n",
            "Requirement already satisfied: packaging>=20.0 in /usr/local/lib/python3.10/dist-packages (from transformers) (24.1)\n",
            "Requirement already satisfied: pyyaml>=5.1 in /usr/local/lib/python3.10/dist-packages (from transformers) (6.0.2)\n",
            "Requirement already satisfied: regex!=2019.12.17 in /usr/local/lib/python3.10/dist-packages (from transformers) (2024.5.15)\n",
            "Requirement already satisfied: requests in /usr/local/lib/python3.10/dist-packages (from transformers) (2.32.3)\n",
            "Requirement already satisfied: safetensors>=0.4.1 in /usr/local/lib/python3.10/dist-packages (from transformers) (0.4.4)\n",
            "Requirement already satisfied: tokenizers<0.20,>=0.19 in /usr/local/lib/python3.10/dist-packages (from transformers) (0.19.1)\n",
            "Requirement already satisfied: tqdm>=4.27 in /usr/local/lib/python3.10/dist-packages (from transformers) (4.66.5)\n",
            "Requirement already satisfied: absl-py>=1.0.0 in /usr/local/lib/python3.10/dist-packages (from tensorflow) (1.4.0)\n",
            "Requirement already satisfied: astunparse>=1.6.0 in /usr/local/lib/python3.10/dist-packages (from tensorflow) (1.6.3)\n",
            "Requirement already satisfied: flatbuffers>=24.3.25 in /usr/local/lib/python3.10/dist-packages (from tensorflow) (24.3.25)\n",
            "Requirement already satisfied: gast!=0.5.0,!=0.5.1,!=0.5.2,>=0.2.1 in /usr/local/lib/python3.10/dist-packages (from tensorflow) (0.6.0)\n",
            "Requirement already satisfied: google-pasta>=0.1.1 in /usr/local/lib/python3.10/dist-packages (from tensorflow) (0.2.0)\n",
            "Requirement already satisfied: h5py>=3.10.0 in /usr/local/lib/python3.10/dist-packages (from tensorflow) (3.11.0)\n",
            "Requirement already satisfied: libclang>=13.0.0 in /usr/local/lib/python3.10/dist-packages (from tensorflow) (18.1.1)\n",
            "Requirement already satisfied: ml-dtypes<0.5.0,>=0.3.1 in /usr/local/lib/python3.10/dist-packages (from tensorflow) (0.4.0)\n",
            "Requirement already satisfied: opt-einsum>=2.3.2 in /usr/local/lib/python3.10/dist-packages (from tensorflow) (3.3.0)\n",
            "Requirement already satisfied: protobuf!=4.21.0,!=4.21.1,!=4.21.2,!=4.21.3,!=4.21.4,!=4.21.5,<5.0.0dev,>=3.20.3 in /usr/local/lib/python3.10/dist-packages (from tensorflow) (3.20.3)\n",
            "Requirement already satisfied: setuptools in /usr/local/lib/python3.10/dist-packages (from tensorflow) (71.0.4)\n",
            "Requirement already satisfied: six>=1.12.0 in /usr/local/lib/python3.10/dist-packages (from tensorflow) (1.16.0)\n",
            "Requirement already satisfied: termcolor>=1.1.0 in /usr/local/lib/python3.10/dist-packages (from tensorflow) (2.4.0)\n",
            "Requirement already satisfied: typing-extensions>=3.6.6 in /usr/local/lib/python3.10/dist-packages (from tensorflow) (4.12.2)\n",
            "Requirement already satisfied: wrapt>=1.11.0 in /usr/local/lib/python3.10/dist-packages (from tensorflow) (1.16.0)\n",
            "Requirement already satisfied: grpcio<2.0,>=1.24.3 in /usr/local/lib/python3.10/dist-packages (from tensorflow) (1.64.1)\n",
            "Requirement already satisfied: tensorboard<2.18,>=2.17 in /usr/local/lib/python3.10/dist-packages (from tensorflow) (2.17.0)\n",
            "Requirement already satisfied: keras>=3.2.0 in /usr/local/lib/python3.10/dist-packages (from tensorflow) (3.4.1)\n",
            "Requirement already satisfied: tensorflow-io-gcs-filesystem>=0.23.1 in /usr/local/lib/python3.10/dist-packages (from tensorflow) (0.37.1)\n",
            "Requirement already satisfied: wheel<1.0,>=0.23.0 in /usr/local/lib/python3.10/dist-packages (from astunparse>=1.6.0->tensorflow) (0.44.0)\n",
            "Requirement already satisfied: fsspec>=2023.5.0 in /usr/local/lib/python3.10/dist-packages (from huggingface-hub<1.0,>=0.23.2->transformers) (2024.6.1)\n",
            "Requirement already satisfied: rich in /usr/local/lib/python3.10/dist-packages (from keras>=3.2.0->tensorflow) (13.7.1)\n",
            "Requirement already satisfied: namex in /usr/local/lib/python3.10/dist-packages (from keras>=3.2.0->tensorflow) (0.0.8)\n",
            "Requirement already satisfied: optree in /usr/local/lib/python3.10/dist-packages (from keras>=3.2.0->tensorflow) (0.12.1)\n",
            "Requirement already satisfied: charset-normalizer<4,>=2 in /usr/local/lib/python3.10/dist-packages (from requests->transformers) (3.3.2)\n",
            "Requirement already satisfied: idna<4,>=2.5 in /usr/local/lib/python3.10/dist-packages (from requests->transformers) (3.7)\n",
            "Requirement already satisfied: urllib3<3,>=1.21.1 in /usr/local/lib/python3.10/dist-packages (from requests->transformers) (2.0.7)\n",
            "Requirement already satisfied: certifi>=2017.4.17 in /usr/local/lib/python3.10/dist-packages (from requests->transformers) (2024.7.4)\n",
            "Requirement already satisfied: markdown>=2.6.8 in /usr/local/lib/python3.10/dist-packages (from tensorboard<2.18,>=2.17->tensorflow) (3.6)\n",
            "Requirement already satisfied: tensorboard-data-server<0.8.0,>=0.7.0 in /usr/local/lib/python3.10/dist-packages (from tensorboard<2.18,>=2.17->tensorflow) (0.7.2)\n",
            "Requirement already satisfied: werkzeug>=1.0.1 in /usr/local/lib/python3.10/dist-packages (from tensorboard<2.18,>=2.17->tensorflow) (3.0.3)\n",
            "Requirement already satisfied: MarkupSafe>=2.1.1 in /usr/local/lib/python3.10/dist-packages (from werkzeug>=1.0.1->tensorboard<2.18,>=2.17->tensorflow) (2.1.5)\n",
            "Requirement already satisfied: markdown-it-py>=2.2.0 in /usr/local/lib/python3.10/dist-packages (from rich->keras>=3.2.0->tensorflow) (3.0.0)\n",
            "Requirement already satisfied: pygments<3.0.0,>=2.13.0 in /usr/local/lib/python3.10/dist-packages (from rich->keras>=3.2.0->tensorflow) (2.16.1)\n",
            "Requirement already satisfied: mdurl~=0.1 in /usr/local/lib/python3.10/dist-packages (from markdown-it-py>=2.2.0->rich->keras>=3.2.0->tensorflow) (0.1.2)\n"
          ]
        }
      ]
    },
    {
      "cell_type": "code",
      "source": [
        "import tensorflow as tf\n",
        "import pandas as pd\n",
        "import matplotlib.pyplot as plt\n",
        "import seaborn as sns\n",
        "import tensorflow as tf\n",
        "from transformers import DistilBertTokenizer\n",
        "import numpy as np\n",
        "from transformers import TFDistilBertForSequenceClassification\n",
        "from tensorflow.keras.optimizers import Adam"
      ],
      "metadata": {
        "id": "diIFdrY4T7Lk"
      },
      "execution_count": 88,
      "outputs": []
    },
    {
      "cell_type": "code",
      "execution_count": 89,
      "metadata": {
        "id": "oigOG618Ksk8"
      },
      "outputs": [],
      "source": [
        "#loading the data\n",
        "\n",
        "splits = {'train': 'plain_text/train-00000-of-00001.parquet', 'test': 'plain_text/test-00000-of-00001.parquet'}\n",
        "train_df = pd.read_parquet(\"hf://datasets/fancyzhx/yelp_polarity/\" + splits[\"train\"])\n",
        "test_df = pd.read_parquet(\"hf://datasets/fancyzhx/yelp_polarity/\" + splits[\"test\"])"
      ]
    },
    {
      "cell_type": "markdown",
      "source": [
        "EDA"
      ],
      "metadata": {
        "id": "dmp6hKSBy0S1"
      }
    },
    {
      "cell_type": "code",
      "source": [
        "#print the dataframes\n",
        "print(train_df)\n",
        "print(test_df)"
      ],
      "metadata": {
        "colab": {
          "base_uri": "https://localhost:8080/"
        },
        "id": "FUJeZvCjLhtq",
        "outputId": "ab481d75-92ae-4005-db21-18821e6dfa3e"
      },
      "execution_count": 90,
      "outputs": [
        {
          "output_type": "stream",
          "name": "stdout",
          "text": [
            "                                                     text  label\n",
            "0       Unfortunately, the frustration of being Dr. Go...      0\n",
            "1       Been going to Dr. Goldberg for over 10 years. ...      1\n",
            "2       I don't know what Dr. Goldberg was like before...      0\n",
            "3       I'm writing this review to give you a heads up...      0\n",
            "4       All the food is great here. But the best thing...      1\n",
            "...                                                   ...    ...\n",
            "559995  Ryan was as good as everyone on yelp has claim...      1\n",
            "559996  Professional \\nFriendly\\nOn time AND affordabl...      1\n",
            "559997  Phone calls always go to voicemail and message...      0\n",
            "559998  Looks like all of the good reviews have gone t...      0\n",
            "559999  Ryan Rocks! I called him this morning for some...      1\n",
            "\n",
            "[560000 rows x 2 columns]\n",
            "                                                    text  label\n",
            "0      Contrary to other reviews, I have zero complai...      1\n",
            "1      Last summer I had an appointment to get new ti...      0\n",
            "2      Friendly staff, same starbucks fair you get an...      1\n",
            "3      The food is good. Unfortunately the service is...      0\n",
            "4      Even when we didn't have a car Filene's Baseme...      1\n",
            "...                                                  ...    ...\n",
            "37995         If I could give 0...I would.  Don't do it.      0\n",
            "37996  Items Selected:\\nChocolate Cinnamon Horn\\nSmal...      1\n",
            "37997  Expensive lunch meals.  Fried pickles were goo...      0\n",
            "37998  Highly overpriced and food was cold. Our waitr...      0\n",
            "37999  I have been using this company for 11 months. ...      0\n",
            "\n",
            "[38000 rows x 2 columns]\n"
          ]
        }
      ]
    },
    {
      "cell_type": "code",
      "source": [
        "# Check the shape of the DataFrames\n",
        "print(f\"Train Data Shape: {train_df.shape}\")\n",
        "print(f\"Test Data Shape: {test_df.shape}\")"
      ],
      "metadata": {
        "colab": {
          "base_uri": "https://localhost:8080/"
        },
        "id": "eAGWSwhxL1ZE",
        "outputId": "d1937b66-0413-4e5f-c367-d67a7f66d3e4"
      },
      "execution_count": 91,
      "outputs": [
        {
          "output_type": "stream",
          "name": "stdout",
          "text": [
            "Train Data Shape: (560000, 2)\n",
            "Test Data Shape: (38000, 2)\n"
          ]
        }
      ]
    },
    {
      "cell_type": "code",
      "source": [
        "# Display the first few rows to verify the content\n",
        "print(train_df.head())\n",
        "print(test_df.head())"
      ],
      "metadata": {
        "colab": {
          "base_uri": "https://localhost:8080/"
        },
        "id": "DPaLY1XIL2fo",
        "outputId": "595dfb54-d664-444c-c4ce-1be4a43ed134"
      },
      "execution_count": 92,
      "outputs": [
        {
          "output_type": "stream",
          "name": "stdout",
          "text": [
            "                                                text  label\n",
            "0  Unfortunately, the frustration of being Dr. Go...      0\n",
            "1  Been going to Dr. Goldberg for over 10 years. ...      1\n",
            "2  I don't know what Dr. Goldberg was like before...      0\n",
            "3  I'm writing this review to give you a heads up...      0\n",
            "4  All the food is great here. But the best thing...      1\n",
            "                                                text  label\n",
            "0  Contrary to other reviews, I have zero complai...      1\n",
            "1  Last summer I had an appointment to get new ti...      0\n",
            "2  Friendly staff, same starbucks fair you get an...      1\n",
            "3  The food is good. Unfortunately the service is...      0\n",
            "4  Even when we didn't have a car Filene's Baseme...      1\n"
          ]
        }
      ]
    },
    {
      "cell_type": "code",
      "source": [
        "#print the train data columns\n",
        "print(train_df.columns)"
      ],
      "metadata": {
        "colab": {
          "base_uri": "https://localhost:8080/"
        },
        "id": "8msnjMJRL50q",
        "outputId": "041896ee-4f78-4e1e-c1dc-047c3f8d5a6a"
      },
      "execution_count": 93,
      "outputs": [
        {
          "output_type": "stream",
          "name": "stdout",
          "text": [
            "Index(['text', 'label'], dtype='object')\n"
          ]
        }
      ]
    },
    {
      "cell_type": "code",
      "source": [
        "# Check for null values in the train and test DataFrames\n",
        "train_nulls = train_df.isnull().sum()\n",
        "test_nulls = test_df.isnull().sum()\n",
        "\n",
        "print(\"Null values in train data:\")\n",
        "print(train_nulls)\n",
        "\n",
        "print(\"\\nNull values in test data:\")\n",
        "print(test_nulls)"
      ],
      "metadata": {
        "colab": {
          "base_uri": "https://localhost:8080/"
        },
        "id": "WyZ3V2iXMYQS",
        "outputId": "bae5bb4c-1a59-4ca9-9c9a-eee94f005fd3"
      },
      "execution_count": 94,
      "outputs": [
        {
          "output_type": "stream",
          "name": "stdout",
          "text": [
            "Null values in train data:\n",
            "text     0\n",
            "label    0\n",
            "dtype: int64\n",
            "\n",
            "Null values in test data:\n",
            "text     0\n",
            "label    0\n",
            "dtype: int64\n"
          ]
        }
      ]
    },
    {
      "cell_type": "code",
      "source": [
        "# Check for duplicates in the train and test DataFrames\n",
        "train_duplicates = train_df.duplicated().sum()\n",
        "test_duplicates = test_df.duplicated().sum()\n",
        "\n",
        "print(f\"\\nNumber of duplicate rows in train data: {train_duplicates}\")\n",
        "print(f\"Number of duplicate rows in test data: {test_duplicates}\")"
      ],
      "metadata": {
        "colab": {
          "base_uri": "https://localhost:8080/"
        },
        "id": "F1ngfC0PMbub",
        "outputId": "5d1886c8-a230-4d50-ada7-937205a8afe4"
      },
      "execution_count": 95,
      "outputs": [
        {
          "output_type": "stream",
          "name": "stdout",
          "text": [
            "\n",
            "Number of duplicate rows in train data: 0\n",
            "Number of duplicate rows in test data: 0\n"
          ]
        }
      ]
    },
    {
      "cell_type": "code",
      "source": [
        "# Step 3: Text Preprocessing\n",
        "import re\n",
        "\n",
        "def clean_text(text):\n",
        "    # Convert text to lowercase\n",
        "    text = text.lower()\n",
        "    # Remove unwanted characters (special characters, numbers, extra spaces)\n",
        "    text = re.sub(r'[^a-z\\s]', '', text)\n",
        "    # Remove extra whitespaces\n",
        "    text = re.sub(r'\\s+', ' ', text).strip()\n",
        "    return text\n"
      ],
      "metadata": {
        "id": "Ojo_xlYWWG6h"
      },
      "execution_count": 96,
      "outputs": []
    },
    {
      "cell_type": "code",
      "source": [
        "# Apply text cleaning function to the datasets\n",
        "train_df['text'] = train_df['text'].apply(clean_text)\n",
        "test_df['text'] = test_df['text'].apply(clean_text)\n",
        "\n",
        "# Step 4: Check and Balance the Dataset (Optional)\n",
        "# Check label distribution\n",
        "print(\"Label distribution in train data after cleaning:\")\n",
        "print(train_df['label'].value_counts())\n",
        "\n",
        "print(\"\\nLabel distribution in test data after cleaning:\")\n",
        "print(test_df['label'].value_counts())"
      ],
      "metadata": {
        "colab": {
          "base_uri": "https://localhost:8080/"
        },
        "id": "9qqP3ecTWMsB",
        "outputId": "916f2029-593c-4892-b619-22444c4557d9"
      },
      "execution_count": 97,
      "outputs": [
        {
          "output_type": "stream",
          "name": "stdout",
          "text": [
            "Label distribution in train data after cleaning:\n",
            "label\n",
            "0    280000\n",
            "1    280000\n",
            "Name: count, dtype: int64\n",
            "\n",
            "Label distribution in test data after cleaning:\n",
            "label\n",
            "1    19000\n",
            "0    19000\n",
            "Name: count, dtype: int64\n"
          ]
        }
      ]
    },
    {
      "cell_type": "code",
      "source": [
        "# Summary statistics for text length\n",
        "train_df['text_length'] = train_df['text'].apply(len)\n",
        "print(train_df['text_length'].describe())"
      ],
      "metadata": {
        "colab": {
          "base_uri": "https://localhost:8080/"
        },
        "id": "LTTF3B8UNLii",
        "outputId": "5e8974a7-6df2-41e0-f995-b8b2789d8cf5"
      },
      "execution_count": 98,
      "outputs": [
        {
          "output_type": "stream",
          "name": "stdout",
          "text": [
            "count    560000.000000\n",
            "mean        691.749195\n",
            "std         637.064701\n",
            "min           0.000000\n",
            "25%         266.000000\n",
            "50%         503.000000\n",
            "75%         901.000000\n",
            "max        4914.000000\n",
            "Name: text_length, dtype: float64\n"
          ]
        }
      ]
    },
    {
      "cell_type": "code",
      "source": [
        "# Distribution of labels in the training and test datasets\n",
        "print(\"Label distribution in train data:\")\n",
        "print(train_df['label'].value_counts())"
      ],
      "metadata": {
        "colab": {
          "base_uri": "https://localhost:8080/"
        },
        "id": "spaP3KChNUOz",
        "outputId": "b7e8ce0d-fe4e-4216-89f2-a867e2e7e33c"
      },
      "execution_count": 99,
      "outputs": [
        {
          "output_type": "stream",
          "name": "stdout",
          "text": [
            "Label distribution in train data:\n",
            "label\n",
            "0    280000\n",
            "1    280000\n",
            "Name: count, dtype: int64\n"
          ]
        }
      ]
    },
    {
      "cell_type": "code",
      "source": [
        "print(\"\\nLabel distribution in test data:\")\n",
        "print(test_df['label'].value_counts())"
      ],
      "metadata": {
        "colab": {
          "base_uri": "https://localhost:8080/"
        },
        "id": "96cWrfBlNYFa",
        "outputId": "babf87b7-83c2-4705-c966-38459e75fec5"
      },
      "execution_count": 100,
      "outputs": [
        {
          "output_type": "stream",
          "name": "stdout",
          "text": [
            "\n",
            "Label distribution in test data:\n",
            "label\n",
            "1    19000\n",
            "0    19000\n",
            "Name: count, dtype: int64\n"
          ]
        }
      ]
    },
    {
      "cell_type": "code",
      "source": [
        "# Histogram of text lengths\n",
        "plt.figure(figsize=(10, 6))\n",
        "sns.histplot(train_df['text_length'], bins=50, kde=True)\n",
        "plt.title('Distribution of Review Text Lengths')\n",
        "plt.xlabel('Text Length')\n",
        "plt.ylabel('Frequency')\n",
        "plt.show()"
      ],
      "metadata": {
        "colab": {
          "base_uri": "https://localhost:8080/",
          "height": 564
        },
        "id": "9frt4xVnNbSp",
        "outputId": "dec2e968-1d0e-40c6-8502-19f0d220b665"
      },
      "execution_count": 101,
      "outputs": [
        {
          "output_type": "display_data",
          "data": {
            "text/plain": [
              "<Figure size 1000x600 with 1 Axes>"
            ],
            "image/png": "[encoded data removed]"
          },
          "metadata": {}
        }
      ]
    },
    {
      "cell_type": "code",
      "source": [
        "# Correlation between text length and label\n",
        "correlation = train_df[['text_length', 'label']].corr()\n",
        "print(\"Correlation between text length and sentiment label:\")\n",
        "print(correlation)"
      ],
      "metadata": {
        "colab": {
          "base_uri": "https://localhost:8080/"
        },
        "id": "pWC9Dn4lNpsP",
        "outputId": "7aa5d957-2c38-47ce-be47-a7fbd18e05f1"
      },
      "execution_count": 102,
      "outputs": [
        {
          "output_type": "stream",
          "name": "stdout",
          "text": [
            "Correlation between text length and sentiment label:\n",
            "             text_length     label\n",
            "text_length     1.000000 -0.140706\n",
            "label          -0.140706  1.000000\n"
          ]
        }
      ]
    },
    {
      "cell_type": "code",
      "source": [
        "# Bar plot for label distribution\n",
        "plt.figure(figsize=(6, 4))\n",
        "sns.countplot(x='label', data=train_df)\n",
        "plt.title('Distribution of Sentiment Labels')\n",
        "plt.xlabel('Sentiment Label')\n",
        "plt.ylabel('Count')\n",
        "plt.show()"
      ],
      "metadata": {
        "colab": {
          "base_uri": "https://localhost:8080/",
          "height": 410
        },
        "id": "s4skhMo7N-cT",
        "outputId": "e5770160-78b8-4f17-eca7-44d7666c7827"
      },
      "execution_count": 103,
      "outputs": [
        {
          "output_type": "display_data",
          "data": {
            "text/plain": [
              "<Figure size 600x400 with 1 Axes>"
            ],
            "image/png": "[encoded data removed]"
          },
          "metadata": {}
        }
      ]
    },
    {
      "cell_type": "code",
      "source": [
        "# Box plot for text length by label\n",
        "plt.figure(figsize=(10, 6))\n",
        "sns.boxplot(x='label', y='text_length', data=train_df)\n",
        "plt.title('Text Length Distribution by Sentiment Label')\n",
        "plt.xlabel('Sentiment Label')\n",
        "plt.ylabel('Text Length')\n",
        "plt.show()"
      ],
      "metadata": {
        "colab": {
          "base_uri": "https://localhost:8080/",
          "height": 564
        },
        "id": "SfnEtRpqOCUe",
        "outputId": "dc48408c-e7ab-4ae6-f408-3faeb3903f4a"
      },
      "execution_count": 104,
      "outputs": [
        {
          "output_type": "display_data",
          "data": {
            "text/plain": [
              "<Figure size 1000x600 with 1 Axes>"
            ],
            "image/png": "[encoded data removed]"
          },
          "metadata": {}
        }
      ]
    },
    {
      "cell_type": "code",
      "source": [
        "# Limit the train to the first 5,000 rows\n",
        "train_df = train_df[:5000]"
      ],
      "metadata": {
        "id": "0mlPo_fIOGbQ"
      },
      "execution_count": 105,
      "outputs": []
    },
    {
      "cell_type": "code",
      "source": [
        "# Check the column names and first few rows\n",
        "print(train_df.columns)\n",
        "\n",
        "# Display the first few rows of the DataFrame\n",
        "print(train_df.head())"
      ],
      "metadata": {
        "colab": {
          "base_uri": "https://localhost:8080/"
        },
        "id": "IP3c_QYGPJ4b",
        "outputId": "a5c8e969-18c3-4fc7-cc6d-079aa4abe6ee"
      },
      "execution_count": 106,
      "outputs": [
        {
          "output_type": "stream",
          "name": "stdout",
          "text": [
            "Index(['text', 'label', 'text_length'], dtype='object')\n",
            "                                                text  label  text_length\n",
            "0  unfortunately the frustration of being dr gold...      0          609\n",
            "1  been going to dr goldberg for over years i thi...      1          478\n",
            "2  i dont know what dr goldberg was like before m...      0         1110\n",
            "3  im writing this review to give you a heads up ...      0         1009\n",
            "4  all the food is great here but the best thing ...      1          383\n"
          ]
        }
      ]
    },
    {
      "cell_type": "code",
      "source": [
        "# Drop the 'text_length' column and keep only 'text' and 'label'\n",
        "train_df = train_df[['text', 'label']]\n",
        "\n",
        "# Verify the new shape and columns\n",
        "print(f\"Train Data Shape after removing 'text_length': {train_df.shape}\")\n",
        "print(train_df.head())\n"
      ],
      "metadata": {
        "colab": {
          "base_uri": "https://localhost:8080/"
        },
        "id": "-12Df6gePXQ5",
        "outputId": "dcaa8d1d-4b86-4ccb-889d-33a01e6d10c6"
      },
      "execution_count": 107,
      "outputs": [
        {
          "output_type": "stream",
          "name": "stdout",
          "text": [
            "Train Data Shape after removing 'text_length': (5000, 2)\n",
            "                                                text  label\n",
            "0  unfortunately the frustration of being dr gold...      0\n",
            "1  been going to dr goldberg for over years i thi...      1\n",
            "2  i dont know what dr goldberg was like before m...      0\n",
            "3  im writing this review to give you a heads up ...      0\n",
            "4  all the food is great here but the best thing ...      1\n"
          ]
        }
      ]
    },
    {
      "cell_type": "code",
      "source": [
        "# Limit the test DataFrame to the first 1000 rows\n",
        "test_df = test_df[:1000]\n",
        "\n",
        "# Verify the new shape of the test DataFrame\n",
        "print(f\"Test Data Shape after limiting: {test_df.shape}\")\n",
        "print(test_df.head())\n"
      ],
      "metadata": {
        "colab": {
          "base_uri": "https://localhost:8080/"
        },
        "id": "z5rb71OLPij0",
        "outputId": "badab329-84ec-46f4-b337-c8888e87d7c3"
      },
      "execution_count": 108,
      "outputs": [
        {
          "output_type": "stream",
          "name": "stdout",
          "text": [
            "Test Data Shape after limiting: (1000, 2)\n",
            "                                                text  label\n",
            "0  contrary to other reviews i have zero complain...      1\n",
            "1  last summer i had an appointment to get new ti...      0\n",
            "2  friendly staff same starbucks fair you get any...      1\n",
            "3  the food is good unfortunately the service is ...      0\n",
            "4  even when we didnt have a car filenes basement...      1\n"
          ]
        }
      ]
    },
    {
      "cell_type": "code",
      "source": [
        "# Load the DistilBERT tokenizer\n",
        "tokenizer = DistilBertTokenizer.from_pretrained('distilbert-base-uncased')"
      ],
      "metadata": {
        "id": "6Rb1UA-DQEqE"
      },
      "execution_count": 109,
      "outputs": []
    },
    {
      "cell_type": "code",
      "source": [
        "# Tokenize the text data\n",
        "def tokenize_function(texts):\n",
        "    return tokenizer(\n",
        "        texts.tolist(),\n",
        "        padding='max_length',  # Pad to max length\n",
        "        truncation=True,       # Truncate to max length\n",
        "        max_length=128,        # Max length for BERT\n",
        "        return_tensors='tf'    # Return as TensorFlow tensors\n",
        "    )"
      ],
      "metadata": {
        "id": "-yEw0CL3QKPo"
      },
      "execution_count": 110,
      "outputs": []
    },
    {
      "cell_type": "code",
      "source": [
        "# Load pre-trained DistilBERT model for sequence classification\n",
        "model = TFDistilBertForSequenceClassification.from_pretrained('distilbert-base-uncased', num_labels =2)\n",
        "#Freeze the layer\n",
        "for layer in model.layers[-3:]:\n",
        "    layer.trainable = False\n",
        "\n",
        "\n",
        "# Display the model summary\n",
        "model.summary()"
      ],
      "metadata": {
        "colab": {
          "base_uri": "https://localhost:8080/"
        },
        "id": "AkP55QWvQ323",
        "outputId": "f09c59ec-e4b3-4892-f33b-c4e25d623a8c"
      },
      "execution_count": 111,
      "outputs": [
        {
          "output_type": "stream",
          "name": "stderr",
          "text": [
            "Some weights of the PyTorch model were not used when initializing the TF 2.0 model TFDistilBertForSequenceClassification: ['vocab_transform.weight', 'vocab_projector.bias', 'vocab_layer_norm.weight', 'vocab_layer_norm.bias', 'vocab_transform.bias']\n",
            "- This IS expected if you are initializing TFDistilBertForSequenceClassification from a PyTorch model trained on another task or with another architecture (e.g. initializing a TFBertForSequenceClassification model from a BertForPreTraining model).\n",
            "- This IS NOT expected if you are initializing TFDistilBertForSequenceClassification from a PyTorch model that you expect to be exactly identical (e.g. initializing a TFBertForSequenceClassification model from a BertForSequenceClassification model).\n",
            "Some weights or buffers of the TF 2.0 model TFDistilBertForSequenceClassification were not initialized from the PyTorch model and are newly initialized: ['pre_classifier.weight', 'pre_classifier.bias', 'classifier.weight', 'classifier.bias']\n",
            "You should probably TRAIN this model on a down-stream task to be able to use it for predictions and inference.\n"
          ]
        },
        {
          "output_type": "stream",
          "name": "stdout",
          "text": [
            "Model: \"tf_distil_bert_for_sequence_classification_4\"\n",
            "_________________________________________________________________\n",
            " Layer (type)                Output Shape              Param #   \n",
            "=================================================================\n",
            " distilbert (TFDistilBertMa  multiple                  66362880  \n",
            " inLayer)                                                        \n",
            "                                                                 \n",
            " pre_classifier (Dense)      multiple                  590592    \n",
            "                                                                 \n",
            " classifier (Dense)          multiple                  1538      \n",
            "                                                                 \n",
            " dropout_99 (Dropout)        multiple                  0 (unused)\n",
            "                                                                 \n",
            "=================================================================\n",
            "Total params: 66955010 (255.41 MB)\n",
            "Trainable params: 66362880 (253.15 MB)\n",
            "Non-trainable params: 592130 (2.26 MB)\n",
            "_________________________________________________________________\n"
          ]
        }
      ]
    },
    {
      "cell_type": "code",
      "source": [
        "import tensorflow as tf\n",
        "\n",
        "def create_tf_dataset(encodings, labels):\n",
        "    dataset = tf.data.Dataset.from_tensor_slices((dict(encodings), labels))\n",
        "    return dataset.map(lambda x, y: (x, tf.reshape(y, (-1,))))\n",
        "\n",
        "# Tokenize the train and test data\n",
        "train_encodings = tokenize_function(train_df['text'])\n",
        "test_encodings = tokenize_function(test_df['text'])\n",
        "\n",
        "# Convert labels to TensorFlow tensors\n",
        "train_labels = tf.convert_to_tensor(train_df['label'].values, dtype=tf.int64)\n",
        "test_labels = tf.convert_to_tensor(test_df['label'].values, dtype=tf.int64)\n",
        "\n",
        "# Create TensorFlow datasets\n",
        "train_dataset = create_tf_dataset(train_encodings, train_labels)\n",
        "test_dataset = create_tf_dataset(test_encodings, test_labels)\n"
      ],
      "metadata": {
        "id": "FQiRQd3eTZ6o"
      },
      "execution_count": 112,
      "outputs": []
    },
    {
      "cell_type": "code",
      "source": [
        "\n",
        "# Compile the model\n",
        "model.compile(\n",
        "    optimizer=\"AdamW\",\n",
        "    loss='sparse_categorical_crossentropy',  # Suitable for integer-encoded labels\n",
        "    metrics=['accuracy']\n",
        ")\n"
      ],
      "metadata": {
        "id": "C63ov2FnTd0t"
      },
      "execution_count": 113,
      "outputs": []
    },
    {
      "cell_type": "code",
      "source": [
        "# Define training parameters\n",
        "batch_size = 64\n",
        "epochs = 10\n",
        "\n",
        "\n",
        "# Train the model\n",
        "history = model.fit(\n",
        "    train_dataset.shuffle(10000).batch(batch_size),\n",
        "    validation_data=test_dataset.batch(batch_size),\n",
        "    epochs=epochs,\n",
        ")\n",
        "\n",
        "# Evaluate the model\n",
        "loss, accuracy = model.evaluate(test_dataset.batch(batch_size))\n",
        "print(f\"Test Loss: {loss:.4f}\")\n",
        "print(f\"Test Accuracy: {accuracy * 100:.2f}%\")"
      ],
      "metadata": {
        "colab": {
          "base_uri": "https://localhost:8080/"
        },
        "id": "e3JZrtLQUOHC",
        "outputId": "cd6c2889-e7d3-4002-b5f6-e9d8ac361b46"
      },
      "execution_count": 114,
      "outputs": [
        {
          "output_type": "stream",
          "name": "stdout",
          "text": [
            "Epoch 1/10\n",
            "79/79 [==============================] - 85s 817ms/step - loss: 0.7226 - accuracy: 0.5104 - val_loss: 0.6931 - val_accuracy: 0.5180\n",
            "Epoch 2/10\n",
            "79/79 [==============================] - 63s 795ms/step - loss: 0.6931 - accuracy: 0.5224 - val_loss: 0.6931 - val_accuracy: 0.5180\n",
            "Epoch 3/10\n",
            "79/79 [==============================] - 63s 793ms/step - loss: 0.6931 - accuracy: 0.5224 - val_loss: 0.6931 - val_accuracy: 0.5180\n",
            "Epoch 4/10\n",
            "79/79 [==============================] - 64s 804ms/step - loss: 0.6931 - accuracy: 0.5224 - val_loss: 0.6931 - val_accuracy: 0.5180\n",
            "Epoch 5/10\n",
            "79/79 [==============================] - 64s 805ms/step - loss: 0.6931 - accuracy: 0.5224 - val_loss: 0.6931 - val_accuracy: 0.5180\n",
            "Epoch 6/10\n",
            "79/79 [==============================] - 64s 805ms/step - loss: 0.6931 - accuracy: 0.5224 - val_loss: 0.6931 - val_accuracy: 0.5180\n",
            "Epoch 7/10\n",
            "79/79 [==============================] - 63s 798ms/step - loss: 0.6931 - accuracy: 0.5224 - val_loss: 0.6931 - val_accuracy: 0.5180\n",
            "Epoch 8/10\n",
            "79/79 [==============================] - 64s 810ms/step - loss: 0.6931 - accuracy: 0.5224 - val_loss: 0.6931 - val_accuracy: 0.5180\n",
            "Epoch 9/10\n",
            "79/79 [==============================] - 64s 808ms/step - loss: 0.6931 - accuracy: 0.5224 - val_loss: 0.6931 - val_accuracy: 0.5180\n",
            "Epoch 10/10\n",
            "79/79 [==============================] - 64s 807ms/step - loss: 0.6931 - accuracy: 0.5224 - val_loss: 0.6931 - val_accuracy: 0.5180\n",
            "16/16 [==============================] - 4s 263ms/step - loss: 0.6931 - accuracy: 0.5180\n",
            "Test Loss: 0.6931\n",
            "Test Accuracy: 51.80%\n"
          ]
        }
      ]
    },
    {
      "cell_type": "code",
      "source": [
        "# Extract metrics from the history object\n",
        "history_dict = history.history\n",
        "epochs_range = range(1, len(history_dict['loss']) + 1)\n",
        "\n",
        "# Plot loss\n",
        "plt.figure(figsize=(12, 6))\n",
        "plt.subplot(1, 2, 1)\n",
        "plt.plot(epochs_range, history_dict['loss'], label='Training Loss')\n",
        "plt.plot(epochs_range, history_dict['val_loss'], label='Validation Loss')\n",
        "plt.title('Training and Validation Loss')\n",
        "plt.xlabel('Epochs')\n",
        "plt.ylabel('Loss')\n",
        "plt.legend()\n",
        "\n",
        "# Plot accuracy\n",
        "plt.subplot(1, 2, 2)\n",
        "plt.plot(epochs_range, history_dict['accuracy'], label='Training Accuracy')\n",
        "plt.plot(epochs_range, history_dict['val_accuracy'], label='Validation Accuracy')\n",
        "plt.title('Training and Validation Accuracy')\n",
        "plt.xlabel('Epochs')\n",
        "plt.ylabel('Accuracy')\n",
        "plt.legend()\n",
        "\n",
        "plt.tight_layout()\n",
        "plt.show()"
      ],
      "metadata": {
        "colab": {
          "base_uri": "https://localhost:8080/",
          "height": 607
        },
        "id": "UmUNYpglsCxh",
        "outputId": "a6f17fa3-766a-4dc6-e398-b8346ceb57f8"
      },
      "execution_count": 115,
      "outputs": [
        {
          "output_type": "display_data",
          "data": {
            "text/plain": [
              "<Figure size 1200x600 with 2 Axes>"
            ],
            "image/png": "[encoded data removed]"
          },
          "metadata": {}
        }
      ]
    },
    {
      "cell_type": "code",
      "source": [
        "# Example text for prediction\n",
        "texts_to_predict = [\n",
        "    \"The food was great and the service was excellent!\",\n",
        "    \"I did not enjoy the meal. The service was slow.\",\n",
        "]\n",
        "\n",
        "# Tokenize the new texts\n",
        "pred_encodings = tokenize_function(pd.Series(texts_to_predict))\n",
        "\n",
        "# Create a TensorFlow dataset for prediction\n",
        "pred_dataset = tf.data.Dataset.from_tensor_slices(dict(pred_encodings))\n",
        "pred_dataset = pred_dataset.batch(1)  # Batch size of 1 for predictions\n"
      ],
      "metadata": {
        "id": "PR0WJNw6tNd4"
      },
      "execution_count": 116,
      "outputs": []
    },
    {
      "cell_type": "code",
      "source": [
        "# Make predictions\n",
        "predictions = model.predict(pred_dataset)\n",
        "\n",
        "# The model outputs logits; apply softmax to get probabilities\n",
        "predicted_probs = tf.nn.softmax(predictions.logits, axis=-1)\n"
      ],
      "metadata": {
        "colab": {
          "base_uri": "https://localhost:8080/"
        },
        "id": "WWyQaP68tOsn",
        "outputId": "423cc69c-87fb-44fd-b07e-511c6b7ba144"
      },
      "execution_count": 117,
      "outputs": [
        {
          "output_type": "stream",
          "name": "stdout",
          "text": [
            "2/2 [==============================] - 2s 26ms/step\n"
          ]
        }
      ]
    },
    {
      "cell_type": "code",
      "source": [
        "\n",
        "# Convert predictions to class labels\n",
        "predicted_labels = np.argmax(predicted_probs, axis=-1)\n",
        "\n",
        "# Print the predictions\n",
        "for text, label in zip(texts_to_predict, predicted_labels):\n",
        "    print(f\"Text: {text}\")\n",
        "    print(f\"Predicted label: {label}\")\n",
        "    print(\"---\")"
      ],
      "metadata": {
        "colab": {
          "base_uri": "https://localhost:8080/"
        },
        "id": "dGoTFf-UtSnv",
        "outputId": "21e60f0d-7324-4aeb-fb4f-971a53e70e48"
      },
      "execution_count": 118,
      "outputs": [
        {
          "output_type": "stream",
          "name": "stdout",
          "text": [
            "Text: The food was great and the service was excellent!\n",
            "Predicted label: 0\n",
            "---\n",
            "Text: I did not enjoy the meal. The service was slow.\n",
            "Predicted label: 0\n",
            "---\n"
          ]
        }
      ]
    },
    {
      "cell_type": "markdown",
      "source": [
        "DEPLOYMENT"
      ],
      "metadata": {
        "id": "sQYDUP99Gxkc"
      }
    },
    {
      "cell_type": "code",
      "source": [
        "import ipywidgets as widgets\n",
        "from IPython.display import display, clear_output"
      ],
      "metadata": {
        "id": "F4JY_ufJEqb2"
      },
      "execution_count": 119,
      "outputs": []
    },
    {
      "cell_type": "code",
      "source": [
        "\n",
        "# Define function that predicts the class label\n",
        "def predict(text):\n",
        "    \"\"\"\n",
        "    Function that predicts the class label for a text\n",
        "\n",
        "    Args:\n",
        "    text: a movie review that needs to be classified\n",
        "\n",
        "    Returns:\n",
        "    predicted_class and predicted probability\n",
        "    \"\"\"\n",
        "    # Tokenize input text\n",
        "    inputs = tokenizer(text, return_tensors=\"tf\", truncation=True, padding=True, max_length=512)\n",
        "\n",
        "    # Model prediction\n",
        "    prediction = model(inputs)\n",
        "    logits = prediction['logits'].numpy()\n",
        "\n",
        "    # Convert logits to probabilities\n",
        "    probabilities = tf.nn.softmax(logits, axis=1).numpy()[0]\n",
        "\n",
        "    # Get the predicted class and its probability\n",
        "    predicted_class = np.argmax(probabilities)\n",
        "    predicted_probability = probabilities[predicted_class]\n",
        "\n",
        "    return predicted_class, predicted_probability\n",
        "\n",
        "# Define a function `on_button_click` that is called when a button is pressed.\n",
        "def on_button_click(button):\n",
        "    # Clear the previous output from the display.\n",
        "    clear_output(wait=True)\n",
        "\n",
        "    # Call the `predict` function\n",
        "    prediction, probability = predict(text_area.value)\n",
        "\n",
        "    # If the prediction is 1, then print that the input text is predicted as positive.\n",
        "    if prediction == 1:\n",
        "        print(f\"Prediction: Positive with probability {probability:.4f}%\")\n",
        "    else:\n",
        "        print(f\"Prediction: Negative with probability {probability:.4f}%\")\n",
        "\n",
        "    # Call the `display_ui` function to display the text area and button again after showing the prediction.\n",
        "    display_ui()\n",
        "\n",
        "# Define a function `display_ui` that displays the `text_area` and `button` widgets.\n",
        "def display_ui():\n",
        "    display(text_area, button)\n",
        "\n",
        "# Create a `text_area` widget using the `widgets.Textarea` method. This widget allows the user to input text.\n",
        "text_area = widgets.Textarea(\n",
        "    value='',  # Initial value of the text area is empty.\n",
        "    placeholder='Type something',  # Placeholder text to display when the text area is empty.\n",
        "    description='Input Text:',  # Label for the text area.\n",
        "    disabled=False,  # The text area is enabled (i.e., it's editable).\n",
        "    layout=widgets.Layout(height='100px', width='80%')  # Design specifications for the text area.\n",
        ")\n",
        "\n",
        "# Create a button widget using the `widgets.Button` method.\n",
        "button = widgets.Button(description=\"Predict\")\n",
        "\n",
        "# Assign the `on_button_click` function to be called when the button is clicked.\n",
        "button.on_click(on_button_click)\n",
        "\n",
        "# Initially display the user interface\n",
        "display_ui()"
      ],
      "metadata": {
        "colab": {
          "base_uri": "https://localhost:8080/",
          "height": 153,
          "referenced_widgets": [
            "f29f6b3d3ced47fdbbfde3e6a16a5fe1",
            "e9f9ea41fd5047e69ea0a745ccd9a804",
            "46d4dcefdc2544998f6c50914c6036b4",
            "1374d00ac2f6481d8122ab392e25467d",
            "2480205d9a0346a68b8629945d550b67",
            "96d24de7f00a4043bf3f2cff7a4b7aff"
          ]
        },
        "id": "3VUh4QIHE93b",
        "outputId": "0d89eba1-f3d8-4995-8442-50028b8f9f53"
      },
      "execution_count": 120,
      "outputs": [
        {
          "output_type": "display_data",
          "data": {
            "text/plain": [
              "Textarea(value='', description='Input Text:', layout=Layout(height='100px', width='80%'), placeholder='Type so…"
            ],
            "application/vnd.jupyter.widget-view+json": {
              "version_major": 2,
              "version_minor": 0,
              "model_id": "f29f6b3d3ced47fdbbfde3e6a16a5fe1"
            }
          },
          "metadata": {}
        },
        {
          "output_type": "display_data",
          "data": {
            "text/plain": [
              "Button(description='Predict', style=ButtonStyle())"
            ],
            "application/vnd.jupyter.widget-view+json": {
              "version_major": 2,
              "version_minor": 0,
              "model_id": "1374d00ac2f6481d8122ab392e25467d"
            }
          },
          "metadata": {}
        }
      ]
    }
  ]
}